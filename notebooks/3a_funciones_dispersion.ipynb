{
  "nbformat": 4,
  "nbformat_minor": 0,
  "metadata": {
    "colab": {
      "name": "3a_funciones_dispersion.ipynb",
      "provenance": [],
      "collapsed_sections": [],
      "authorship_tag": "ABX9TyOarMwdCe8iBy8lru0W19yG",
      "include_colab_link": true
    },
    "kernelspec": {
      "name": "python3",
      "display_name": "Python 3"
    }
  },
  "cells": [
    {
      "cell_type": "markdown",
      "metadata": {
        "id": "view-in-github",
        "colab_type": "text"
      },
      "source": [
        "<a href=\"https://colab.research.google.com/github/gibranfp/CursoDatosMasivosI/blob/main/notebooks/3a_funciones_dispersion.ipynb\" target=\"_parent\"><img src=\"https://colab.research.google.com/assets/colab-badge.svg\" alt=\"Open In Colab\"/></a>"
      ]
    },
    {
      "cell_type": "markdown",
      "metadata": {
        "id": "Kloh2BluGySD"
      },
      "source": [
        "# Tablas de dispersión o tablas _hash_\n",
        "Una tabla _hash_ es una estructura de datos que puede almacenar objetos, la cual permite _insertar_, _eliminar_ y _buscar_ objetos de forma eficiente. \n",
        "\n",
        "## Diccionarios en Python\n",
        "Los diccionarios de Python se llevan a cabo a través de tablas _hash_. Por ej. podemos almacenar 2 conjuntos usando esta estructura de datos. "
      ]
    },
    {
      "cell_type": "code",
      "metadata": {
        "id": "j2g9kfBkGLWY",
        "colab": {
          "base_uri": "https://localhost:8080/"
        },
        "outputId": "c4756e2c-449f-4301-9ad3-a1ee96f0c8fd"
      },
      "source": [
        "o = {}\n",
        "o['O1']=(0, 2, 0, 4)\n",
        "o['O2']=(1, 2, 0, 2)\n",
        "    \n",
        "print('O1 = {0}, O2 = {1}'.format(o['O1'], o['O2']))"
      ],
      "execution_count": 1,
      "outputs": [
        {
          "output_type": "stream",
          "text": [
            "O1 = (0, 2, 0, 4), O2 = (1, 2, 0, 2)\n"
          ],
          "name": "stdout"
        }
      ]
    },
    {
      "cell_type": "markdown",
      "metadata": {
        "id": "zWBin6p2cuvT"
      },
      "source": [
        "También es posible hacer lo contrario."
      ]
    },
    {
      "cell_type": "code",
      "metadata": {
        "id": "fMYNPZw7Hy10",
        "colab": {
          "base_uri": "https://localhost:8080/"
        },
        "outputId": "7dfad294-6d80-428a-c171-87866a1c670f"
      },
      "source": [
        "o2 = {}\n",
        "o2[(0,2,0,4)]='O1'\n",
        "o2[(1,2,0,2)]='O2'\n",
        "\n",
        "print('(0,2,0,4) = {0}'.format(o2[(0,2,0,4)]))\n",
        "print('(1,2,0,2) = {0}'.format(o2[(1,2,0,2)]))"
      ],
      "execution_count": 2,
      "outputs": [
        {
          "output_type": "stream",
          "text": [
            "(0,2,0,4) = O1\n",
            "(1,2,0,2) = O2\n"
          ],
          "name": "stdout"
        }
      ]
    },
    {
      "cell_type": "markdown",
      "metadata": {
        "id": "Y_8p2EEkdKIT"
      },
      "source": [
        "Más generalmente podemos crear diccionarios usando cualquier tipo o estructura de datos al que se le pueda aplicar la función `hash`."
      ]
    },
    {
      "cell_type": "code",
      "metadata": {
        "id": "F3kQ3QIMt31C",
        "colab": {
          "base_uri": "https://localhost:8080/"
        },
        "outputId": "db9e14c3-625c-4f3c-d5db-87a3dfbce3df"
      },
      "source": [
        "print('Hash de 1 es {0}'.format(hash(1)))\n",
        "print('Hash de 3.14 es {0}'.format(hash(3.14)))\n",
        "print('Hash de \\'10\\' es {0}'.format(hash('10')))\n",
        "print('Hash de (1,2) es {0}'.format(hash((1,2))))\n",
        "print('Hash de (1,2,0,2) es {0}'.format(hash((1,2,0,2))))"
      ],
      "execution_count": 3,
      "outputs": [
        {
          "output_type": "stream",
          "text": [
            "Hash de 1 es 1\n",
            "Hash de 3.14 es 322818021289917443\n",
            "Hash de '10' es 5179327547278849118\n",
            "Hash de (1,2) es 3713081631934410656\n",
            "Hash de (1,2,0,2) es 485695305516660284\n"
          ],
          "name": "stdout"
        }
      ]
    },
    {
      "cell_type": "markdown",
      "metadata": {
        "id": "tiEa7s_Hd4MD"
      },
      "source": [
        "## Creando tablas _hash_ en Python\n",
        "Definimos una clase abstracta para nuestra estructura de datos, especificando sus métodos principales."
      ]
    },
    {
      "cell_type": "code",
      "metadata": {
        "id": "IGU0o6sIOXrq"
      },
      "source": [
        "from abc import ABC, abstractmethod \n",
        "\n",
        "class TablaHash(ABC):\n",
        "  def __init__(self, n_cubetas):\n",
        "    self.n_cubetas = n_cubetas\n",
        "    self.tabla = [[] for i in range(n_cubetas)]\n",
        "\n",
        "  def __getitem__(self, x):\n",
        "    return self.tabla[self.h(x)]\n",
        "\n",
        "  def __repr__(self):\n",
        "    contenido = ['%d::%s' % (i, self.tabla[i]) for i in range(self.n_cubetas)]\n",
        "    return \"<TablaHash :%s >\" % ('\\n'.join(contenido))\n",
        "\n",
        "  def __str__(self):\n",
        "    contenido = ['%d::%s' % (i, self.tabla[i]) for i in range(self.n_cubetas) if self.tabla[i]]\n",
        "    return '\\n'.join(contenido)\n",
        "\n",
        "  @abstractmethod\n",
        "  def h(self, x):\n",
        "    pass\n",
        "\n",
        "  @abstractmethod\n",
        "  def insertar(self, x):\n",
        "    pass\n",
        "\n",
        "  @abstractmethod\n",
        "  def buscar(self, x):\n",
        "    pass\n",
        "    \n",
        "  @abstractmethod\n",
        "  def eliminar(self, x):\n",
        "    pass"
      ],
      "execution_count": 4,
      "outputs": []
    },
    {
      "cell_type": "markdown",
      "metadata": {
        "id": "AMITzCIgLoTW"
      },
      "source": [
        "### Familia $\\mathcal{H}$ por método de división\n",
        "Podemos crear funciones _hash_ $h$ usando el método de división, obteniendo el residuo de la división del valor del objeto y el tamaño de la tabla $m$, esto es,\n",
        "\n",
        "$$\n",
        "h(x) = x \\mod{m}\n",
        "$$\n",
        "\n",
        "donde $m$ es el número de cubetas en la tabla _hash_. Es conveniente usar un número primo para $m$.\n",
        "\n",
        "Definimos una clase hija de `TablaHash` que implemente la función anterior. Para resolver colisiones usamos encadenamiento, esto es, cada cubeta o registro de la tabla es una lista que contiene todos los objetos que son mapeados al índice correspondiente."
      ]
    },
    {
      "cell_type": "code",
      "metadata": {
        "id": "GQuJ8Q32HXyK"
      },
      "source": [
        "class THMod(TablaHash):\n",
        "  def h(self, x):\n",
        "    return x % self.n_cubetas\n",
        "\n",
        "  def insertar(self, x):\n",
        "    self.tabla[self.h(x)].append(x)\n",
        "  \n",
        "  def buscar(self, x):\n",
        "    return x in self.tabla[h(x)]\n",
        "      \n",
        "  def eliminar(self, x):\n",
        "    self.tabla[self.h(x)].remove(x)"
      ],
      "execution_count": 5,
      "outputs": []
    },
    {
      "cell_type": "markdown",
      "metadata": {
        "id": "vAKYQ7ISu8-8"
      },
      "source": [
        "Probemos nuestra tabla con un conjunto 5 de números"
      ]
    },
    {
      "cell_type": "code",
      "metadata": {
        "id": "i-_9o9IGM3vi",
        "colab": {
          "base_uri": "https://localhost:8080/"
        },
        "outputId": "9a3a5fd0-ce0f-45f5-b395-0c23eb893ddf"
      },
      "source": [
        "enteros = [1, 10, 36, 78, 93]\n",
        "n_cubetas = 10\n",
        "\n",
        "thmod = THMod(n_cubetas)\n",
        "for i,e in enumerate(enteros):\n",
        "  thmod.insertar(e)\n",
        "print(thmod)"
      ],
      "execution_count": 6,
      "outputs": [
        {
          "output_type": "stream",
          "text": [
            "0::[10]\n",
            "1::[1]\n",
            "3::[93]\n",
            "6::[36]\n",
            "8::[78]\n"
          ],
          "name": "stdout"
        }
      ]
    },
    {
      "cell_type": "markdown",
      "metadata": {
        "id": "bXFhCKJ_TI3x"
      },
      "source": [
        "¿Qué pasa si tenemos una lista de objetos más grande?"
      ]
    },
    {
      "cell_type": "code",
      "metadata": {
        "id": "RILzRoZgTRMz",
        "colab": {
          "base_uri": "https://localhost:8080/"
        },
        "outputId": "4afbaed7-9810-48e6-ba35-4fe00ee36cbd"
      },
      "source": [
        "enteros = [12454, 73523, 9865, 12310, 12, 864189, 882113, 27, 36, 39654, 4, 481, 1155, 634, 69, 782, 1232, 9433]\n",
        "n_cubetas = 10\n",
        "\n",
        "thmod_mas = THMod(n_cubetas)\n",
        "for i,e in enumerate(enteros):\n",
        "  thmod_mas.insertar(e)\n",
        "print(thmod_mas)"
      ],
      "execution_count": 7,
      "outputs": [
        {
          "output_type": "stream",
          "text": [
            "0::[12310]\n",
            "1::[481]\n",
            "2::[12, 782, 1232]\n",
            "3::[73523, 882113, 9433]\n",
            "4::[12454, 39654, 4, 634]\n",
            "5::[9865, 1155]\n",
            "6::[36]\n",
            "7::[27]\n",
            "9::[864189, 69]\n"
          ],
          "name": "stdout"
        }
      ]
    },
    {
      "cell_type": "markdown",
      "metadata": {
        "id": "TSiy9M6r3PJy"
      },
      "source": [
        "Para evitar colisiones podemos aumentar el tamaño de la tabla. Suponiendo que  la función anterior es uniforme, ¿cuál sería la probabilidad de colisión si deseamos almacenar $n$ objetos en una tabla de tamaño $m$? Podemos calcular esta probabilidad como el complemento de la probabilidad que no haya colisión.\n",
        "\n",
        "$$\n",
        "\\begin{align*}\n",
        "Pr[h(x) = h(y)] & = 1 - P[h(x) \\ne h(y)] \\\\\n",
        "& =  1 - \\frac{m}{m} \\times \\frac{m - 1}{m} \\times \\cdots \\times \\frac{m - n + 1}{m} \n",
        "\\end{align*}\n",
        "$$"
      ]
    },
    {
      "cell_type": "code",
      "metadata": {
        "id": "kMT0iboe14bR"
      },
      "source": [
        "def cumple(m, n):\n",
        "  prod = 1\n",
        "  for i in range(n):\n",
        "    prod *= (m - i) / m\n",
        "  \n",
        "  return 1.0 - prod"
      ],
      "execution_count": 8,
      "outputs": []
    },
    {
      "cell_type": "markdown",
      "metadata": {
        "id": "bRQr5CctiScX"
      },
      "source": [
        "Este problema está relacionado a la _paradoja del cumpleaños_, en el cual se tienen un conjunto $n$ de personas y se busca calular la probabilidad de que al menos 2 personas cumplan años el mismo día. En este caso las probabilidades para diferentes valores de $n$ quedan de la siguiente manera:"
      ]
    },
    {
      "cell_type": "code",
      "metadata": {
        "id": "w9mHjqz95XDv",
        "colab": {
          "base_uri": "https://localhost:8080/",
          "height": 265
        },
        "outputId": "438d6cb3-0e65-49b5-d743-c1fce090de76"
      },
      "source": [
        "import matplotlib.pyplot as plt\n",
        "\n",
        "pcs = []\n",
        "n_personas = range(1,90,5)\n",
        "for n in n_personas:\n",
        "  pcs.append(cumple(365, n))\n",
        "\n",
        "plt.plot(range(1,90,5), pcs)\n",
        "plt.show()"
      ],
      "execution_count": 9,
      "outputs": [
        {
          "output_type": "display_data",
          "data": {
            "image/png": "[encoded data removed]",
            "text/plain": [
              "<Figure size 432x288 with 1 Axes>"
            ]
          },
          "metadata": {
            "tags": [],
            "needs_background": "light"
          }
        }
      ]
    },
    {
      "cell_type": "markdown",
      "metadata": {
        "id": "0TU3w1E_qr1y"
      },
      "source": [
        "Regresando al problema de las colisiones en nuestra tabla, las probabilidades para $m = 10$  serían"
      ]
    },
    {
      "cell_type": "code",
      "metadata": {
        "id": "ojLz5tbx6k9Y",
        "colab": {
          "base_uri": "https://localhost:8080/",
          "height": 265
        },
        "outputId": "b303df22-48e4-42db-d8a8-0c5a6d028f09"
      },
      "source": [
        "pcs = []\n",
        "n_personas = range(1,20,5)\n",
        "for n in n_personas:\n",
        "  pcs.append(cumple(10, n))\n",
        "\n",
        "plt.plot(n_personas, pcs)\n",
        "plt.show()"
      ],
      "execution_count": 10,
      "outputs": [
        {
          "output_type": "display_data",
          "data": {
            "image/png": "[encoded data removed]",
            "text/plain": [
              "<Figure size 432x288 with 1 Axes>"
            ]
          },
          "metadata": {
            "tags": [],
            "needs_background": "light"
          }
        }
      ]
    },
    {
      "cell_type": "markdown",
      "metadata": {
        "id": "o-gYft-0rL9r"
      },
      "source": [
        "Podemos hacer más grande el tamaño de la tabla para reducir el número de colisiones. La probabilidad de colisión para $n = 18$ y diferentes valores de $m$ es"
      ]
    },
    {
      "cell_type": "code",
      "metadata": {
        "id": "xyEbrSUG8rxZ"
      },
      "source": [
        "emes = range(1, 1500, 100)\n",
        "n = len(enteros)\n",
        "probs = []\n",
        "for m in emes:\n",
        "  probs.append(cumple(m, n))"
      ],
      "execution_count": 11,
      "outputs": []
    },
    {
      "cell_type": "markdown",
      "metadata": {
        "id": "zGtRphZirk22"
      },
      "source": [
        "En lugar de hacer el cálculo de la probabilidad exacta con la función `cumple`, es posible aproximarla de la siguiente manera:\n",
        "\n",
        "$$\n",
        "P[h(x) = h(y)] \\approx 1 - e^{\\frac{-n^2}{2m}}\n",
        "$$"
      ]
    },
    {
      "cell_type": "code",
      "metadata": {
        "id": "KIIsqfCcrhlO"
      },
      "source": [
        "from math import exp\n",
        "\n",
        "def cumple_aprox(m, n):\n",
        "  return 1.0 - exp((-n**2) / (2 * m))\n",
        "\n",
        "aprox = []\n",
        "for m in emes:\n",
        "  aprox.append(cumple_aprox(m, n))"
      ],
      "execution_count": 12,
      "outputs": []
    },
    {
      "cell_type": "markdown",
      "metadata": {
        "id": "3j3jk8IusOSr"
      },
      "source": [
        "Graficamos las probabilidades de colisión con diferentes tamaños de tabla calculadas con las 2 estrategias"
      ]
    },
    {
      "cell_type": "code",
      "metadata": {
        "id": "vDfSsytp-88j",
        "colab": {
          "base_uri": "https://localhost:8080/",
          "height": 265
        },
        "outputId": "4363378d-344f-434d-a20f-5140c88800c3"
      },
      "source": [
        "import matplotlib.pyplot as plt\n",
        "\n",
        "plt.plot(emes, probs, label='$P[h(x) = h(y)]$')\n",
        "plt.plot(emes, aprox, label='Aproximación')\n",
        "plt.legend()\n",
        "plt.show()"
      ],
      "execution_count": 13,
      "outputs": [
        {
          "output_type": "display_data",
          "data": {
            "image/png": "[encoded data removed]",
            "text/plain": [
              "<Figure size 432x288 with 1 Axes>"
            ]
          },
          "metadata": {
            "tags": [],
            "needs_background": "light"
          }
        }
      ]
    },
    {
      "cell_type": "markdown",
      "metadata": {
        "id": "hZD6XQnlshN0"
      },
      "source": [
        "Elegimos un número de cubetas un poco más grande"
      ]
    },
    {
      "cell_type": "code",
      "metadata": {
        "id": "A8OP_YyK3OkC",
        "colab": {
          "base_uri": "https://localhost:8080/"
        },
        "outputId": "36d9d891-d5fb-42ab-c21e-4dfaa1bfe65e"
      },
      "source": [
        "n_cubetas = 281\n",
        "\n",
        "thmod_grande = THMod(n_cubetas)\n",
        "for i,e in enumerate(enteros):\n",
        "  thmod_grande.insertar(e)\n",
        "print(thmod_grande)"
      ],
      "execution_count": 14,
      "outputs": [
        {
          "output_type": "stream",
          "text": [
            "4::[4]\n",
            "12::[12]\n",
            "27::[27]\n",
            "30::[9865]\n",
            "31::[1155]\n",
            "33::[39654]\n",
            "36::[36]\n",
            "54::[882113]\n",
            "69::[69]\n",
            "72::[634]\n",
            "90::[12454]\n",
            "108::[1232]\n",
            "114::[864189]\n",
            "160::[9433]\n",
            "182::[73523]\n",
            "200::[481]\n",
            "220::[782]\n",
            "227::[12310]\n"
          ],
          "name": "stdout"
        }
      ]
    },
    {
      "cell_type": "markdown",
      "metadata": {
        "id": "XbKWF7q-0wSf"
      },
      "source": [
        "Veamos cómo escala esta tabla con muchos más números"
      ]
    },
    {
      "cell_type": "code",
      "metadata": {
        "id": "z44oPSYf04Hk",
        "colab": {
          "base_uri": "https://localhost:8080/"
        },
        "outputId": "918e7172-68c2-4b7a-c4cf-5fb67cc57b17"
      },
      "source": [
        "import numpy as np\n",
        "\n",
        "conj = np.random.randint(1000, high=5890123, size=200)\n",
        "thmod_mas_grande = THMod(n_cubetas)\n",
        "for i,e in enumerate(conj):\n",
        "  thmod_mas_grande.insertar(e)\n",
        "print(thmod_mas_grande)"
      ],
      "execution_count": 15,
      "outputs": [
        {
          "output_type": "stream",
          "text": [
            "2::[2744529]\n",
            "4::[491473]\n",
            "7::[3957611, 4463411]\n",
            "9::[1321833]\n",
            "12::[2977488, 721901]\n",
            "13::[5834978]\n",
            "15::[2537445, 427135, 2121846]\n",
            "16::[2181981, 1405859]\n",
            "18::[2613318]\n",
            "20::[1605373]\n",
            "21::[141926]\n",
            "22::[1734635, 400447]\n",
            "27::[3408838]\n",
            "28::[336385]\n",
            "29::[2806938, 688760, 364486]\n",
            "30::[3094402, 1845919]\n",
            "32::[4093359]\n",
            "39::[4598604]\n",
            "41::[82093]\n",
            "45::[2707761]\n",
            "47::[3651361]\n",
            "48::[3741282]\n",
            "52::[2053319, 3103978]\n",
            "54::[4707928, 3166643]\n",
            "56::[3042443]\n",
            "57::[4010489]\n",
            "60::[1602603]\n",
            "63::[1680443]\n",
            "64::[1427544]\n",
            "69::[44748, 3753386]\n",
            "71::[1888110]\n",
            "72::[5859765]\n",
            "73::[4479775]\n",
            "74::[1646172, 2153377]\n",
            "75::[2329565]\n",
            "76::[687964]\n",
            "77::[5436865]\n",
            "80::[3112717]\n",
            "82::[2617316]\n",
            "83::[3010155]\n",
            "85::[3442616]\n",
            "87::[1077160, 4612983]\n",
            "90::[2914341]\n",
            "92::[4532060]\n",
            "94::[3577224]\n",
            "95::[3082384, 553384]\n",
            "96::[5415809, 4305297]\n",
            "99::[5689506]\n",
            "103::[122900]\n",
            "104::[4167896]\n",
            "105::[5491969]\n",
            "109::[2741545]\n",
            "114::[2192476]\n",
            "115::[4719229]\n",
            "118::[881615]\n",
            "121::[2205409]\n",
            "122::[2316124]\n",
            "123::[4775999]\n",
            "126::[5336878]\n",
            "128::[3310308]\n",
            "131::[3760473, 3639924]\n",
            "132::[1451497, 2162708, 5502393]\n",
            "134::[96798]\n",
            "136::[237581, 2712629]\n",
            "137::[109446]\n",
            "138::[2545155, 5644023]\n",
            "139::[1991867]\n",
            "140::[3835790]\n",
            "141::[665268, 2800868, 4678791, 1277005]\n",
            "142::[3764699]\n",
            "143::[2151760]\n",
            "144::[4185920]\n",
            "145::[4117076, 4401167]\n",
            "146::[5200613]\n",
            "148::[1751621, 3895089]\n",
            "150::[5233775]\n",
            "151::[5120533, 4076899]\n",
            "156::[3254417]\n",
            "157::[933639, 5508038]\n",
            "158::[678492]\n",
            "159::[3223229]\n",
            "160::[5438072, 3296290]\n",
            "164::[3197382]\n",
            "167::[2315045]\n",
            "170::[3556225]\n",
            "171::[1155362]\n",
            "172::[5877287]\n",
            "173::[3748994]\n",
            "175::[1090174, 1744623]\n",
            "176::[3147376]\n",
            "177::[4523996, 4603800]\n",
            "180::[1052244]\n",
            "182::[5010974]\n",
            "183::[1876139]\n",
            "184::[3867025, 5534760]\n",
            "188::[5483060]\n",
            "189::[5044701, 3793689]\n",
            "191::[1862940]\n",
            "193::[3148236]\n",
            "195::[1247273, 995497]\n",
            "197::[2666044]\n",
            "199::[2658740]\n",
            "200::[4526548]\n",
            "203::[3608524]\n",
            "204::[453176]\n",
            "205::[4519247]\n",
            "206::[2948177, 3969893]\n",
            "210::[5638756]\n",
            "213::[478475]\n",
            "215::[1775011]\n",
            "219::[3866779]\n",
            "220::[875535]\n",
            "221::[608586, 3143487]\n",
            "227::[33947, 1787949]\n",
            "228::[5386998]\n",
            "233::[3286809]\n",
            "234::[654402]\n",
            "235::[3638904, 5377732]\n",
            "236::[1598002, 1006497]\n",
            "237::[1183809, 3754397]\n",
            "238::[4418120]\n",
            "239::[274495]\n",
            "240::[4501298, 3260964]\n",
            "241::[5851223]\n",
            "246::[3419735, 531336, 3725182]\n",
            "247::[5723374]\n",
            "249::[1094182]\n",
            "251::[4478829, 77245, 4644900, 227861]\n",
            "252::[3701865]\n",
            "254::[3520341]\n",
            "255::[2897646]\n",
            "257::[2756305, 5100407]\n",
            "259::[5112492]\n",
            "260::[2839484, 667073]\n",
            "261::[2482896]\n",
            "264::[2697021, 2082193]\n",
            "266::[5537652]\n",
            "268::[1449666]\n",
            "270::[2501170]\n",
            "271::[3755555]\n",
            "272::[5594982, 5278857, 5294031]\n",
            "273::[4863540]\n",
            "275::[5166460, 1992284]\n",
            "276::[2637180, 1944234, 5275770]\n",
            "279::[465334, 2027413]\n"
          ],
          "name": "stdout"
        }
      ]
    },
    {
      "cell_type": "markdown",
      "metadata": {
        "id": "NdBQD3U2vSds"
      },
      "source": [
        "## Direccionamiento abierto\n",
        "\n",
        "En lugar de usar encadenamiento, podemos usar direccionamiento abierto resolver colisiones. En esta estrategia, si hay una colisión, se sondean otras cubetas o registros en la tabla hasta encontrar una libre. Si no hay ninguna disponible decimos que la tabla está llena y es necesario aumentar su tamaño para poder almacenar más objetos. \n",
        "\n",
        "Para determinar el siguiente índice a examinar es necesario extender la función hash para que incorpore la información de índice. Esta función debe garantizar que se examinen todos los índices en caso de que ninguno esté disponible. \n",
        "\n",
        "### Sondeo lineal\n",
        "Una estrategia común para extender nuestra función _hash_ es el sondeo lineal, el cual está dado por\n",
        "\n",
        "$$\n",
        "h(x, i) = (h'(x) + i)\\mod{m}\n",
        "$$\n"
      ]
    },
    {
      "cell_type": "code",
      "metadata": {
        "id": "hQR1PIsnyCPt"
      },
      "source": [
        "class THModOA(TablaHash):\n",
        "  def h(self, x, i):\n",
        "    return (x % self.n_cubetas + i) % self.n_cubetas\n",
        "\n",
        "  def insertar(self, x):\n",
        "    llena = True\n",
        "    for i in range(self.n_cubetas):\n",
        "      if not self.tabla[self.h(x, i)]:\n",
        "        self.tabla[self.h(x, i)].append(x)\n",
        "        llena = False\n",
        "        break\n",
        "\n",
        "    if llena:\n",
        "      print('Tabla llena')\n",
        "\n",
        "  def buscar(self, x):\n",
        "    for i in range(self.n_cubetas):\n",
        "      if self.tabla[self.h(x, i)][0] == x:\n",
        "        return self.h(x, i)\n",
        "\n",
        "    return -1\n",
        "\n",
        "  def eliminar(self, x):\n",
        "    for i in range(self.n_cubetas):\n",
        "      if self.tabla[self.h(x, i)][0] == x:\n",
        "        self.tabla[self.h(x, i)].remove(x)"
      ],
      "execution_count": 16,
      "outputs": []
    },
    {
      "cell_type": "markdown",
      "metadata": {
        "id": "XYg-6MR01hXF"
      },
      "source": [
        "Intentemos nuevamente con el conjunto anterior usando esta estrategia"
      ]
    },
    {
      "cell_type": "code",
      "metadata": {
        "id": "ZLhbdp9P1oFV",
        "colab": {
          "base_uri": "https://localhost:8080/"
        },
        "outputId": "e96169a1-854b-4747-e385-077d947d1801"
      },
      "source": [
        "thmodoa = THModOA(n_cubetas)\n",
        "for i,e in enumerate(conj):\n",
        "  thmodoa.insertar(e)\n",
        "print(thmodoa)"
      ],
      "execution_count": 17,
      "outputs": [
        {
          "output_type": "stream",
          "text": [
            "0::[2027413]\n",
            "1::[1992284]\n",
            "2::[2744529]\n",
            "4::[491473]\n",
            "7::[3957611]\n",
            "8::[4463411]\n",
            "9::[1321833]\n",
            "12::[2977488]\n",
            "13::[5834978]\n",
            "14::[721901]\n",
            "15::[2537445]\n",
            "16::[2181981]\n",
            "17::[427135]\n",
            "18::[2613318]\n",
            "19::[2121846]\n",
            "20::[1405859]\n",
            "21::[141926]\n",
            "22::[1734635]\n",
            "23::[400447]\n",
            "24::[1605373]\n",
            "27::[3408838]\n",
            "28::[336385]\n",
            "29::[2806938]\n",
            "30::[3094402]\n",
            "31::[1845919]\n",
            "32::[4093359]\n",
            "33::[688760]\n",
            "34::[364486]\n",
            "39::[4598604]\n",
            "41::[82093]\n",
            "45::[2707761]\n",
            "47::[3651361]\n",
            "48::[3741282]\n",
            "52::[2053319]\n",
            "53::[3103978]\n",
            "54::[4707928]\n",
            "55::[3166643]\n",
            "56::[3042443]\n",
            "57::[4010489]\n",
            "60::[1602603]\n",
            "63::[1680443]\n",
            "64::[1427544]\n",
            "69::[44748]\n",
            "70::[3753386]\n",
            "71::[1888110]\n",
            "72::[5859765]\n",
            "73::[4479775]\n",
            "74::[1646172]\n",
            "75::[2153377]\n",
            "76::[2329565]\n",
            "77::[687964]\n",
            "78::[5436865]\n",
            "80::[3112717]\n",
            "82::[2617316]\n",
            "83::[3010155]\n",
            "85::[3442616]\n",
            "87::[1077160]\n",
            "88::[4612983]\n",
            "90::[2914341]\n",
            "92::[4532060]\n",
            "94::[3577224]\n",
            "95::[3082384]\n",
            "96::[5415809]\n",
            "97::[553384]\n",
            "98::[4305297]\n",
            "99::[5689506]\n",
            "103::[122900]\n",
            "104::[4167896]\n",
            "105::[5491969]\n",
            "109::[2741545]\n",
            "114::[2192476]\n",
            "115::[4719229]\n",
            "118::[881615]\n",
            "121::[2205409]\n",
            "122::[2316124]\n",
            "123::[4775999]\n",
            "126::[5336878]\n",
            "128::[3310308]\n",
            "131::[3760473]\n",
            "132::[1451497]\n",
            "133::[2162708]\n",
            "134::[3639924]\n",
            "135::[96798]\n",
            "136::[237581]\n",
            "137::[2712629]\n",
            "138::[109446]\n",
            "139::[1991867]\n",
            "140::[3835790]\n",
            "141::[665268]\n",
            "142::[2800868]\n",
            "143::[2151760]\n",
            "144::[4185920]\n",
            "145::[3764699]\n",
            "146::[5200613]\n",
            "147::[4117076]\n",
            "148::[1751621]\n",
            "149::[3895089]\n",
            "150::[5233775]\n",
            "151::[5120533]\n",
            "152::[4076899]\n",
            "153::[4401167]\n",
            "154::[2545155]\n",
            "155::[4678791]\n",
            "156::[3254417]\n",
            "157::[933639]\n",
            "158::[678492]\n",
            "159::[3223229]\n",
            "160::[5438072]\n",
            "161::[5508038]\n",
            "162::[3296290]\n",
            "163::[1277005]\n",
            "164::[3197382]\n",
            "165::[5502393]\n",
            "166::[5644023]\n",
            "167::[2315045]\n",
            "170::[3556225]\n",
            "171::[1155362]\n",
            "172::[5877287]\n",
            "173::[3748994]\n",
            "175::[1090174]\n",
            "176::[3147376]\n",
            "177::[4523996]\n",
            "178::[4603800]\n",
            "179::[1744623]\n",
            "180::[1052244]\n",
            "182::[5010974]\n",
            "183::[1876139]\n",
            "184::[3867025]\n",
            "185::[5534760]\n",
            "188::[5483060]\n",
            "189::[5044701]\n",
            "190::[3793689]\n",
            "191::[1862940]\n",
            "193::[3148236]\n",
            "195::[1247273]\n",
            "196::[995497]\n",
            "197::[2666044]\n",
            "199::[2658740]\n",
            "200::[4526548]\n",
            "203::[3608524]\n",
            "204::[453176]\n",
            "205::[4519247]\n",
            "206::[2948177]\n",
            "207::[3969893]\n",
            "210::[5638756]\n",
            "213::[478475]\n",
            "215::[1775011]\n",
            "219::[3866779]\n",
            "220::[875535]\n",
            "221::[608586]\n",
            "222::[3143487]\n",
            "227::[33947]\n",
            "228::[1787949]\n",
            "229::[5386998]\n",
            "233::[3286809]\n",
            "234::[654402]\n",
            "235::[3638904]\n",
            "236::[1598002]\n",
            "237::[1183809]\n",
            "238::[4418120]\n",
            "239::[274495]\n",
            "240::[4501298]\n",
            "241::[5851223]\n",
            "242::[3260964]\n",
            "243::[5377732]\n",
            "244::[3754397]\n",
            "245::[1006497]\n",
            "246::[3419735]\n",
            "247::[5723374]\n",
            "248::[531336]\n",
            "249::[3725182]\n",
            "250::[1094182]\n",
            "251::[4478829]\n",
            "252::[77245]\n",
            "253::[4644900]\n",
            "254::[3520341]\n",
            "255::[2897646]\n",
            "256::[3701865]\n",
            "257::[2756305]\n",
            "258::[5100407]\n",
            "259::[5112492]\n",
            "260::[2839484]\n",
            "261::[667073]\n",
            "262::[2482896]\n",
            "263::[227861]\n",
            "264::[2697021]\n",
            "265::[2082193]\n",
            "266::[5537652]\n",
            "268::[1449666]\n",
            "270::[2501170]\n",
            "271::[3755555]\n",
            "272::[5594982]\n",
            "273::[5278857]\n",
            "274::[5294031]\n",
            "275::[5166460]\n",
            "276::[2637180]\n",
            "277::[1944234]\n",
            "278::[4863540]\n",
            "279::[465334]\n",
            "280::[5275770]\n"
          ],
          "name": "stdout"
        }
      ]
    },
    {
      "cell_type": "markdown",
      "metadata": {
        "id": "DXXu94ynjVQ7"
      },
      "source": [
        "## Familias por método de multiplicación\n",
        "Otra estrategia para diseñar funciones _hash_ es el de multiplicación. En este método primero se multiplica el objeto $x$ por una constante $a \\in (0,1)$ y se extrae la parte fraccional de $a x$. Posteriormente, se multiplica este valor por $m$ y se toma la función piso $\\lfloor\\rfloor$\n",
        "$$\n",
        "h(x) = \\lfloor m (x a \\mod 1)\\rfloor\n",
        "$$\n",
        "\n",
        "donde $a$ es una constante."
      ]
    },
    {
      "cell_type": "code",
      "metadata": {
        "id": "ma5iEI2hkCgb"
      },
      "source": [
        "from math import floor, sqrt\n",
        "\n",
        "class THMult(TablaHash):\n",
        "  def __init__(self, n_cubetas, a):\n",
        "    self.n_cubetas = n_cubetas\n",
        "    self.tabla = [[] for i in range(n_cubetas)]\n",
        "    self.a = a\n",
        "  \n",
        "  def h(self, x, i):\n",
        "    return (floor(((self.a * x) % 1) * self.n_cubetas) + i) % self.n_cubetas\n",
        "\n",
        "  def insertar(self, x):\n",
        "    llena = True\n",
        "    for i in range(self.n_cubetas):\n",
        "      if not self.tabla[self.h(x, i)]:\n",
        "        self.tabla[self.h(x, i)].append(x)\n",
        "        llena = False\n",
        "        break\n",
        "\n",
        "    if llena:\n",
        "      print('Tabla llena')\n",
        "\n",
        "  def buscar(self, x):\n",
        "    for i in range(self.n_cubetas):\n",
        "      if self.tabla[self.h(x, i)][0] == x:\n",
        "        return self.h(x, i)\n",
        "\n",
        "    return -1\n",
        "\n",
        "  def eliminar(self, x):\n",
        "    for i in range(self.n_cubetas):\n",
        "      if self.tabla[self.h(x, i)][0] == x:\n",
        "        self.tabla[self.h(x, i)].remove(x)"
      ],
      "execution_count": 18,
      "outputs": []
    },
    {
      "cell_type": "markdown",
      "metadata": {
        "id": "fuS5T2XC3lvh"
      },
      "source": [
        "Aunque $a$ puede tomar cualquier valor en el intervalo $(0,1)$, hay algunos valores que funcionan mejor que otros. Donald Knuth recomienda $a \\approx \\frac{\\sqrt{5} - 1}{2}$"
      ]
    },
    {
      "cell_type": "code",
      "metadata": {
        "id": "KdEUfs2u7tui",
        "colab": {
          "base_uri": "https://localhost:8080/"
        },
        "outputId": "635642b6-7ebb-4960-a132-c79b050fc2df"
      },
      "source": [
        "thm = THMult(281, (sqrt(5) - 1) / 2)\n",
        "for i,e in enumerate(conj):\n",
        "  thm.insertar(e)\n",
        "print(thm)"
      ],
      "execution_count": 19,
      "outputs": [
        {
          "output_type": "stream",
          "text": [
            "1::[3166643]\n",
            "4::[3577224]\n",
            "5::[491473]\n",
            "7::[4863540]\n",
            "9::[881615]\n",
            "10::[5415809]\n",
            "11::[5594982]\n",
            "12::[2082193]\n",
            "13::[5278857]\n",
            "14::[77245]\n",
            "15::[2162708]\n",
            "16::[5644023]\n",
            "20::[4644900]\n",
            "21::[3223229]\n",
            "22::[3082384]\n",
            "23::[2501170]\n",
            "24::[2806938]\n",
            "25::[141926]\n",
            "26::[5689506]\n",
            "27::[688760]\n",
            "28::[5294031]\n",
            "29::[1605373]\n",
            "30::[1247273]\n",
            "31::[3957611]\n",
            "32::[678492]\n",
            "33::[4532060]\n",
            "34::[1602603]\n",
            "35::[3760473]\n",
            "36::[5877287]\n",
            "37::[237581]\n",
            "38::[687964]\n",
            "39::[553384]\n",
            "40::[2482896]\n",
            "41::[3753386]\n",
            "42::[4076899]\n",
            "43::[5537652]\n",
            "44::[4501298]\n",
            "45::[1888110]\n",
            "46::[5377732]\n",
            "47::[3010155]\n",
            "48::[2756305]\n",
            "49::[453176]\n",
            "50::[2153377]\n",
            "51::[5275770]\n",
            "52::[3042443]\n",
            "53::[3725182]\n",
            "54::[2027413]\n",
            "55::[1183809]\n",
            "56::[1775011]\n",
            "57::[3651361]\n",
            "58::[2744529]\n",
            "59::[4479775]\n",
            "63::[1992284]\n",
            "64::[465334]\n",
            "66::[665268]\n",
            "67::[1862940]\n",
            "68::[274495]\n",
            "69::[5010974]\n",
            "70::[4519247]\n",
            "71::[1646172]\n",
            "72::[3296290]\n",
            "73::[2617316]\n",
            "74::[82093]\n",
            "75::[2537445]\n",
            "76::[1787949]\n",
            "79::[4612983]\n",
            "82::[4523996]\n",
            "83::[2545155]\n",
            "87::[1744623]\n",
            "88::[1751621]\n",
            "89::[3254417]\n",
            "91::[4418120]\n",
            "92::[5438072]\n",
            "93::[2707761]\n",
            "96::[3147376]\n",
            "97::[2613318]\n",
            "98::[2329565]\n",
            "99::[3638904]\n",
            "100::[2316124]\n",
            "101::[721901]\n",
            "102::[109446]\n",
            "103::[336385]\n",
            "104::[5436865]\n",
            "105::[122900]\n",
            "106::[1006497]\n",
            "109::[875535]\n",
            "110::[4167896]\n",
            "111::[3520341]\n",
            "112::[33947]\n",
            "113::[3895089]\n",
            "114::[1734635]\n",
            "115::[3701865]\n",
            "118::[2181981]\n",
            "122::[5120533]\n",
            "123::[3741282]\n",
            "124::[5483060]\n",
            "127::[96798]\n",
            "129::[3419735]\n",
            "135::[1451497]\n",
            "136::[3608524]\n",
            "138::[1077160]\n",
            "139::[2315045]\n",
            "140::[1277005]\n",
            "142::[5491969]\n",
            "143::[1991867]\n",
            "144::[4526548]\n",
            "145::[4010489]\n",
            "146::[4707928]\n",
            "154::[1598002]\n",
            "155::[4478829]\n",
            "156::[1052244]\n",
            "160::[4598604]\n",
            "164::[1090174]\n",
            "165::[3260964]\n",
            "166::[3835790]\n",
            "167::[5200613]\n",
            "168::[2948177]\n",
            "171::[3094402]\n",
            "174::[2839484]\n",
            "175::[2800868]\n",
            "178::[933639]\n",
            "179::[3755555]\n",
            "181::[2697021]\n",
            "182::[1405859]\n",
            "186::[5723374]\n",
            "187::[1094182]\n",
            "188::[1876139]\n",
            "190::[3286809]\n",
            "191::[5044701]\n",
            "192::[1845919]\n",
            "193::[5851223]\n",
            "194::[2658740]\n",
            "195::[5508038]\n",
            "196::[1944234]\n",
            "197::[654402]\n",
            "198::[4463411]\n",
            "199::[531336]\n",
            "200::[4775999]\n",
            "201::[2897646]\n",
            "202::[2205409]\n",
            "203::[1321833]\n",
            "204::[5834978]\n",
            "205::[2192476]\n",
            "206::[364486]\n",
            "207::[3748994]\n",
            "208::[3442616]\n",
            "209::[3793689]\n",
            "210::[3408838]\n",
            "211::[3639924]\n",
            "212::[3197382]\n",
            "213::[1427544]\n",
            "220::[2977488]\n",
            "221::[44748]\n",
            "222::[667073]\n",
            "223::[2914341]\n",
            "224::[5534760]\n",
            "225::[4401167]\n",
            "226::[3969893]\n",
            "227::[3143487]\n",
            "228::[478475]\n",
            "229::[2151760]\n",
            "230::[2666044]\n",
            "231::[5112492]\n",
            "234::[608586]\n",
            "235::[5233775]\n",
            "236::[4185920]\n",
            "237::[227861]\n",
            "238::[3866779]\n",
            "239::[3148236]\n",
            "240::[3310308]\n",
            "241::[400447]\n",
            "242::[5638756]\n",
            "243::[1449666]\n",
            "244::[4678791]\n",
            "245::[2637180]\n",
            "246::[4603800]\n",
            "247::[5166460]\n",
            "248::[3867025]\n",
            "249::[5100407]\n",
            "250::[1680443]\n",
            "251::[5386998]\n",
            "252::[5502393]\n",
            "253::[3112717]\n",
            "254::[3103978]\n",
            "255::[4117076]\n",
            "256::[4305297]\n",
            "258::[2712629]\n",
            "259::[4719229]\n",
            "260::[3556225]\n",
            "261::[2053319]\n",
            "263::[3764699]\n",
            "264::[5859765]\n",
            "266::[427135]\n",
            "267::[2121846]\n",
            "268::[3754397]\n",
            "275::[995497]\n",
            "276::[1155362]\n",
            "278::[4093359]\n",
            "279::[2741545]\n",
            "280::[5336878]\n"
          ],
          "name": "stdout"
        }
      ]
    },
    {
      "cell_type": "markdown",
      "metadata": {
        "id": "KGAVP2FEf4aI"
      },
      "source": [
        "## Ejercicio\n",
        "Realiza lo siguiente:\n",
        "+ Implementa una tabla que realice sondeo cuadrático.\n",
        "\n",
        "$$\n",
        "h(x, i) = (h'(x) + c_1i + c_2i^2)\\mod{m}\n",
        "$$\n",
        "\n",
        "+ Desarrolla un programa que cuente el número de ocurrencias de todas las subcadenas de longitud entre 5 a 10 (sin considerar espacios en blanco ni signos de admiración/interrogación ni caracteres especiales) usando funciones y tablas _hash_.\n"
      ]
    }
  ]
}