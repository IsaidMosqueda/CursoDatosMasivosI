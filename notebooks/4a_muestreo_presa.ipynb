{
  "nbformat": 4,
  "nbformat_minor": 0,
  "metadata": {
    "colab": {
      "name": "4a_muestreo_presa.ipynb",
      "provenance": [],
      "authorship_tag": "ABX9TyMsiUytDpBSazh6faErbuI2",
      "include_colab_link": true
    },
    "kernelspec": {
      "name": "python3",
      "display_name": "Python 3"
    },
    "language_info": {
      "name": "python"
    }
  },
  "cells": [
    {
      "cell_type": "markdown",
      "metadata": {
        "id": "view-in-github",
        "colab_type": "text"
      },
      "source": [
        "<a href=\"https://colab.research.google.com/github/gibranfp/CursoDatosMasivosI/blob/main/notebooks/4a_muestreo_presa.ipynb\" target=\"_parent\"><img src=\"https://colab.research.google.com/assets/colab-badge.svg\" alt=\"Open In Colab\"/></a>"
      ]
    },
    {
      "cell_type": "markdown",
      "metadata": {
        "id": "0U7XkpdhFEQx"
      },
      "source": [
        "# Muestreo de presa (o depósito)\n",
        "En esta libreta programaremos una función que obtiene muestras de un flujo usando el algoritmo de muestreo de presa."
      ]
    },
    {
      "cell_type": "code",
      "metadata": {
        "id": "UAaHHVaj_nzN"
      },
      "source": [
        "import numpy as np\n",
        "\n",
        "def muestreo_presa(flujo, n, k):\n",
        "    presa = np.zeros(k)\n",
        "    presa = flujo[:k]\n",
        "    for i in range(k, n):  \n",
        "      j = np.random.randint(0, i);\n",
        "      if j < k:\n",
        "        presa[j] = flujo[i]\n",
        "    return presa"
      ],
      "execution_count": 37,
      "outputs": []
    },
    {
      "cell_type": "markdown",
      "metadata": {
        "id": "NsYurnHDFX8S"
      },
      "source": [
        "Probamos nuestra función con un arreglo de números enteros del 1 al 12."
      ]
    },
    {
      "cell_type": "code",
      "metadata": {
        "colab": {
          "base_uri": "https://localhost:8080/"
        },
        "id": "U1gVZnT7_rcI",
        "outputId": "14943fbf-1d82-46d0-c245-ea84a656583b"
      },
      "source": [
        "flujo = np.arange(0, 10000)\n",
        "n = len(flujo)\n",
        "k = 5\n",
        "print('Muestras obtenidas: {0}'.format(muestreo_presa(flujo, n, k)))"
      ],
      "execution_count": 45,
      "outputs": [
        {
          "output_type": "stream",
          "text": [
            "Muestras obtenidas: [8614 8927 8187 4023 4008]\n"
          ],
          "name": "stdout"
        }
      ]
    }
  ]
}