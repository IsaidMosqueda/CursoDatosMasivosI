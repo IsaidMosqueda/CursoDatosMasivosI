{
  "nbformat": 4,
  "nbformat_minor": 0,
  "metadata": {
    "colab": {
      "name": "4c_elementos_distintos.ipynb",
      "provenance": [],
      "collapsed_sections": [],
      "authorship_tag": "ABX9TyNfZjNMQB4cxhcUj+QeHq0c",
      "include_colab_link": true
    },
    "kernelspec": {
      "name": "python3",
      "display_name": "Python 3"
    },
    "language_info": {
      "name": "python"
    }
  },
  "cells": [
    {
      "cell_type": "markdown",
      "metadata": {
        "id": "view-in-github",
        "colab_type": "text"
      },
      "source": [
        "<a href=\"https://colab.research.google.com/github/gibranfp/CursoDatosMasivosI/blob/main/notebooks/4c_elementos_distintos.ipynb\" target=\"_parent\"><img src=\"https://colab.research.google.com/assets/colab-badge.svg\" alt=\"Open In Colab\"/></a>"
      ]
    },
    {
      "cell_type": "markdown",
      "metadata": {
        "id": "uFg6o5crvGxv"
      },
      "source": [
        "# Algoritmo de Flajolet-Martin\n",
        "En esta libreta programaremos el algoritmo de Flajolet-Martin para estimar el número de elementos distintos en un flujo de datos.\n",
        "\n",
        "La idea detrás de este algoritmo es que entre más elementos diferentes haya en el flujo de datos, más valores _hash_ diferentes veremos. A medida que vemos más valores _hash_ diferentes, es más probable que uno de estos valores sea inusual, en este caso que termine en muchos ceros.\n",
        "\n",
        "En particular, sea $R$ el número de 0s al final de la cadena correspondiente al valor _hash_ de algún elemento, se mantiene el $R$ más grande de los elementos del flujo $\\hat{R}$ y se toma $2^\\hat{R}$ como un estimador del número de elementos distintos."
      ]
    },
    {
      "cell_type": "code",
      "metadata": {
        "id": "A5R50JK8NE4A"
      },
      "source": [
        "import numpy as np\n",
        "import murmurhash\n",
        "\n",
        "class ConteoProbabilista:  \n",
        "  def __init__(self, n_cubetas):\n",
        "    self.primo = 4294967291  \n",
        "    self.n_cubetas = n_cubetas\n",
        "    self.tam_max = 0\n",
        "    self.a = np.random.randint(0, np.iinfo(np.uint16).max)\n",
        "    self.b = np.random.randint(0, np.iinfo(np.uint16).max)\n",
        "    \n",
        "  def __call__(self, x):\n",
        "    hv = ((self.a * x + self.b) % self.primo) % self.n_cubetas\n",
        "    tam = bin(hv)[2:][::-1].find('1')\n",
        "    if self.tam_max < tam:\n",
        "      self.tam_max = tam\n",
        "\n",
        "  def cardinalidad(self):\n",
        "    return 2**self.tam_max"
      ],
      "execution_count": 1,
      "outputs": []
    },
    {
      "cell_type": "markdown",
      "metadata": {
        "id": "QfbDUb95fsGX"
      },
      "source": [
        "Definimos una clase que realiza varias estimaciones, las divide en grupos pequeños, obtiene el promedio de las estimaciones de cada grupo y toma la mediana de estos promedios como estimación final."
      ]
    },
    {
      "cell_type": "code",
      "metadata": {
        "id": "a5kgdKmwf9mX"
      },
      "source": [
        "class EstimadorElementosDistintos:\n",
        "  def __init__(self, n_cubetas, n_grupos, n_funciones):\n",
        "    self.n_grupos = n_grupos\n",
        "    self.n_funciones = n_funciones\n",
        "    self.n_cubetas = n_cubetas\n",
        "    self.estimadores = []\n",
        "    for i in range(self.n_grupos):\n",
        "      func = []\n",
        "      for j in range(self.n_funciones):\n",
        "        func.append(ConteoProbabilista(self.n_cubetas))\n",
        "      self.estimadores.append(func)\n",
        "    self.conteos = np.zeros((self.n_grupos, self.n_funciones))\n",
        "\n",
        "  def __call__(self, x):\n",
        "    for i in range(self.n_grupos):\n",
        "      for j in range(self.n_funciones):  \n",
        "        self.estimadores[i][j](x)\n",
        "        self.conteos[i, j] = self.estimadores[i][j].cardinalidad()\n",
        "      \n",
        "  def cardinalidad(self):\n",
        "    return np.median(self.conteos.mean(axis=0))"
      ],
      "execution_count": 2,
      "outputs": []
    },
    {
      "cell_type": "markdown",
      "metadata": {
        "id": "rXaQA1Ome0NT"
      },
      "source": [
        "Generamos números aleatorios."
      ]
    },
    {
      "cell_type": "code",
      "metadata": {
        "id": "xcFfCLRqYc76",
        "colab": {
          "base_uri": "https://localhost:8080/"
        },
        "outputId": "e23e1071-2a11-4f1e-88ba-f59bcfb41dbc"
      },
      "source": [
        "import numpy as np\n",
        "\n",
        "X = np.random.randint(0,1000, size=100000)\n",
        "print(\"Hay {0} elementos distintos\".format(np.unique(X).size))"
      ],
      "execution_count": 3,
      "outputs": [
        {
          "output_type": "stream",
          "text": [
            "Hay 1000 elementos distintos\n"
          ],
          "name": "stdout"
        }
      ]
    },
    {
      "cell_type": "markdown",
      "metadata": {
        "id": "aJYKNyORfVvL"
      },
      "source": [
        "Instanciamos nuestra clase y estimamos elementos distintos."
      ]
    },
    {
      "cell_type": "code",
      "metadata": {
        "colab": {
          "base_uri": "https://localhost:8080/"
        },
        "id": "DM8LbetuYxrI",
        "outputId": "95f23938-fa18-429e-86fb-560d4e6509ac"
      },
      "source": [
        "est = EstimadorElementosDistintos(n_cubetas=100000, n_grupos=4, n_funciones=50)\n",
        "for i,x in enumerate(X):\n",
        "  est(x)\n",
        "print(est.cardinalidad())"
      ],
      "execution_count": 4,
      "outputs": [
        {
          "output_type": "stream",
          "text": [
            "1552.25\n"
          ],
          "name": "stdout"
        }
      ]
    }
  ]
}