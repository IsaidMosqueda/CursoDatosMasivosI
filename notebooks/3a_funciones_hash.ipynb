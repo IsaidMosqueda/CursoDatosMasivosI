{
  "nbformat": 4,
  "nbformat_minor": 0,
  "metadata": {
    "colab": {
      "name": "3a_funciones_dispersion.ipynb",
      "provenance": [],
      "collapsed_sections": [],
      "authorship_tag": "ABX9TyMcZ4PpyDijVWBqMRdKTMlo",
      "include_colab_link": true
    },
    "kernelspec": {
      "name": "python3",
      "display_name": "Python 3"
    }
  },
  "cells": [
    {
      "cell_type": "markdown",
      "metadata": {
        "id": "view-in-github",
        "colab_type": "text"
      },
      "source": [
        "<a href=\"https://colab.research.google.com/github/gibranfp/CursoDatosMasivosI/blob/main/notebooks/3a_funciones_hash.ipynb\" target=\"_parent\"><img src=\"https://colab.research.google.com/assets/colab-badge.svg\" alt=\"Open In Colab\"/></a>"
      ]
    },
    {
      "cell_type": "markdown",
      "metadata": {
        "id": "Kloh2BluGySD"
      },
      "source": [
        "# Tablas y funciones_hash_\n",
        "## Tablas _hash_\n",
        "Una tabla _hash_ es una estructura de datos que puede almacenar objetos, la cual permite realizar operaciones de _inserción_, _eliminación_ y _búsqueda_. Esta estructura de datos es particularmente útil cuando el número de objetos a almacenar es mucho menor al de todos los posibles objetos. En lugar de usar los objetos como índices, estos se obtienen mediante una función \n",
        "\n",
        "$$\n",
        "h: \\mathcal{U} \\xrightarrow{} \\{0, \\ldots, m\\}\n",
        "$$\n",
        "\n",
        "donde $m$ es el tamaño de la tabla (es decir, el número de cubetas que tiene) y $\\mathcal{U}$ es el conjunto universal.\n",
        "\n",
        "Las operaciones más comúnes de una tabla _hash} son:\n",
        "\n",
        "* _Buscar_: Regresa la cubeta correspondiente al índice $h(x)$ en la tabla\n",
        "* _Insertar_: Agrega un objeto $x$, este se mapea a la cubeta $h(x)$\n",
        "* _Eliminar_: Quita el objeto $x$ de la cubeta $h(x)$\n",
        "\n",
        "\n",
        "En el caso ideal, el tiempo promedio para estas operaciones en una tabla _hash_ es $O(1)$.\n",
        "\n",
        "## Colisiones\n",
        "El valor de $m$ depende del tamaño y la variedad de objetos que queramos almacenar. En general, se busca tener un tamaño de tabla lo suficientemente grande para almacenar todas las objetos distintas pero no demasiado grande como para requerir una cantidad de memoria considerablemente mayor a la que se va a utilizar. Tener un tamaño de tabla pequeño en comparación al número de objetos resulta en mayores _colisiones_, las cuales ocurren cuando 2 objetos distintas $\\{x^{(i)}, x^{(j)}\\}, x^{(j)} \\ne x^{(j)}$ son mapeadas al mismo índice por la función _hash_ (es decir, $h(x^{(i)}) = h(x^{(j)})$). Al diseñar una función _hash_ se busca que sea rápida y fácil de calcular pero a la vez que tenga la mínima cantidad de colisiones. \n",
        "\n",
        "En muchas aplicaciones queremos reducir colisiones de objetos diferentes. Sin embargo, no es posible evitarlas por completo, por lo que es necesario emplear estrategias para lidiar con ellas. \n",
        "\n",
        "### Encadenamiento\n",
        "Una de las estrategias más comunes para resolver colisiones se conoce como _encadenamiento_ y consiste en que cada cubeta de la tabla almacena una lista enlazada con todos los objetos que han sido mapeados al índice correspondiente. Es decir, si 2 objetos $x^{(1)}$ y $x^{(2)}$ colisionan, ambos se insertan en la lista enlazada de la cubeta a la que fueron mapeados. Las operaciones sobre la tabla quedan de la siguiente manera:\n",
        "\n",
        "* _Buscar_: Examina si un objeto $x$ se encuentra en la lista enlazada de la cubeta correspondiente a $h(x)$.\n",
        "* _Insertar_: Agrega $x$ a la lista enlazada de la cubeta correspondiente a $h(x)$.\n",
        "* _Eliminar_: Busca el objeto $x$ en $h(x)$ y lo elimina de la lista enlazada.\n",
        "\n",
        "En el mejor escenario todos los objetos se mapean distintos índices. En el caso ideal el tiempo de estas operaciones se mantiene como $O(1)$ pero en Pomedio es $\\Theta(1 + \\ell)$ para buscar y eliminar, donde $\\ell = \\tfrac{n}{m}$ es el tamaño esperado de las listas enlazadas.\n",
        "\n",
        "### Direccionamiento abierto\n",
        "Otro método común para resolver colisiones es el _direccionamiento abierto_, en el cual se sondean cubetas hasta encontrar alguna libre o la que contiene el objeto que se busca. Hay varias formas de realizar el sondeo: lineal, cuadrático o usando doble mapeo.\n",
        "\n",
        "## Familias de funciones\n",
        "La idea es definir una familia de funciones $\\mathcal{H}$ y seleccionar $h$ de forma aleatoria e independiente de los objetos $x$.\n",
        "\n",
        "## Propiedades de las funciones _hash_\n",
        "De manera más específica es deseable que las funciones \\emph{hash} $h$ tengan las siguiente Popiedades:\n",
        "\n",
        "* Uniformidad: Si todos los índices son igualmente Pobables. La Pobabilidad de generar un valor es $\\tfrac{1}{m}$, donde $m$ es el número de valores diferentes. Esto es, el número esperado de objetos distintos que se mapean a cada índice valor es el mismo.\n",
        "    $$\n",
        "    P_{h\\in\\mathcal{H}}[h(x) = i] = \\frac{1}{m}, \\text{para cada $x$ y cada $i$}\n",
        "    $$\n",
        "* _Universal_: Si la familia de funciones minimiza el número de colisiones. \n",
        "    $$\n",
        "    P_{h\\in\\mathcal{H}}[h(x) = h(y)] \\leq \\frac{1}{m}, \\text{para cada $x \\ne y$}\n",
        "    $$\n",
        "_Casi-universal_: Si la familia de funciones es cercana a ser universal\n",
        "    $$\n",
        "    P_{h\\in\\mathcal{H}}[h(x) = h(y)] \\leq \\frac{2}{m}, \\text{para cada $x \\ne y$}\n",
        "    $$"
      ]
    },
    {
      "cell_type": "code",
      "metadata": {
        "id": "CC0DKWNfsUea"
      },
      "source": [
        "from abc import ABC, abstractmethod \r\n",
        "from math import floor, sqrt, exp\r\n",
        "\r\n",
        "import random\r\n",
        "\r\n",
        "import numpy as np\r\n",
        "import matplotlib.pyplot as plt"
      ],
      "execution_count": 41,
      "outputs": []
    },
    {
      "cell_type": "markdown",
      "metadata": {
        "id": "LzpEX9EnsYbJ"
      },
      "source": [
        "## Diccionarios en Python\r\n",
        "Los diccionarios de Python se llevan a cabo a través de tablas _hash_. Por ej. podemos almacenar 2 conjuntos usando esta estructura de datos."
      ]
    },
    {
      "cell_type": "code",
      "metadata": {
        "id": "j2g9kfBkGLWY",
        "colab": {
          "base_uri": "https://localhost:8080/"
        },
        "outputId": "1cc91dd3-5eeb-4ec6-b40f-40adc160ea2f"
      },
      "source": [
        "o = {}\n",
        "o['O1']=(0, 2, 0, 4)\n",
        "o['O2']=(1, 2, 0, 2)\n",
        "    \n",
        "print('O1 = {0}, O2 = {1}'.format(o['O1'], o['O2']))"
      ],
      "execution_count": 2,
      "outputs": [
        {
          "output_type": "stream",
          "text": [
            "O1 = (0, 2, 0, 4), O2 = (1, 2, 0, 2)\n"
          ],
          "name": "stdout"
        }
      ]
    },
    {
      "cell_type": "markdown",
      "metadata": {
        "id": "zWBin6p2cuvT"
      },
      "source": [
        "También es posible hacer lo contrario."
      ]
    },
    {
      "cell_type": "code",
      "metadata": {
        "id": "fMYNPZw7Hy10",
        "colab": {
          "base_uri": "https://localhost:8080/"
        },
        "outputId": "4c113aff-0a8a-4c82-a9c9-0dfe211c328c"
      },
      "source": [
        "o2 = {}\n",
        "o2[(0,2,0,4)]='O1'\n",
        "o2[(1,2,0,2)]='O2'\n",
        "\n",
        "print('(0,2,0,4) = {0}'.format(o2[(0,2,0,4)]))\n",
        "print('(1,2,0,2) = {0}'.format(o2[(1,2,0,2)]))"
      ],
      "execution_count": 3,
      "outputs": [
        {
          "output_type": "stream",
          "text": [
            "(0,2,0,4) = O1\n",
            "(1,2,0,2) = O2\n"
          ],
          "name": "stdout"
        }
      ]
    },
    {
      "cell_type": "markdown",
      "metadata": {
        "id": "Y_8p2EEkdKIT"
      },
      "source": [
        "Más generalmente podemos crear diccionarios usando cualquier tipo o estructura de datos al que se le pueda aplicar la función `hash`."
      ]
    },
    {
      "cell_type": "code",
      "metadata": {
        "id": "F3kQ3QIMt31C",
        "colab": {
          "base_uri": "https://localhost:8080/"
        },
        "outputId": "b944f7c0-be62-4c5a-c33c-866d9d2b2b93"
      },
      "source": [
        "print('Hash de 1 es {0}'.format(hash(1)))\n",
        "print('Hash de 3.14 es {0}'.format(hash(3.14)))\n",
        "print('Hash de \\'10\\' es {0}'.format(hash('10')))\n",
        "print('Hash de (1,2) es {0}'.format(hash((1,2))))\n",
        "print('Hash de (1,2,0,2) es {0}'.format(hash((1,2,0,2))))"
      ],
      "execution_count": 4,
      "outputs": [
        {
          "output_type": "stream",
          "text": [
            "Hash de 1 es 1\n",
            "Hash de 3.14 es 322818021289917443\n",
            "Hash de '10' es -1056314950540118654\n",
            "Hash de (1,2) es 3713081631934410656\n",
            "Hash de (1,2,0,2) es 485695305516660284\n"
          ],
          "name": "stdout"
        }
      ]
    },
    {
      "cell_type": "markdown",
      "metadata": {
        "id": "tiEa7s_Hd4MD"
      },
      "source": [
        "## Creando tablas _hash_ en Python\n",
        "Definimos una clase abstracta para nuestra estructura de datos, especificando sus métodos principales."
      ]
    },
    {
      "cell_type": "code",
      "metadata": {
        "id": "IGU0o6sIOXrq"
      },
      "source": [
        "class TablaHash(ABC):\n",
        "  def __init__(self, n_cubetas):\n",
        "    self.n_cubetas = n_cubetas\n",
        "    self.tabla = [[] for i in range(n_cubetas)]\n",
        "\n",
        "  def __getitem__(self, x):\n",
        "    return self.tabla[self.h(x)]\n",
        "\n",
        "  def __repr__(self):\n",
        "    contenido = ['%d::%s' % (i, self.tabla[i]) for i in range(self.n_cubetas)]\n",
        "    return \"<TablaHash :%s >\" % ('\\n'.join(contenido))\n",
        "\n",
        "  def __str__(self):\n",
        "    contenido = ['%d::%s' % (i, self.tabla[i]) for i in range(self.n_cubetas) if self.tabla[i]]\n",
        "    return '\\n'.join(contenido)\n",
        "\n",
        "  @abstractmethod\n",
        "  def h(self, x):\n",
        "    pass\n",
        "\n",
        "  @abstractmethod\n",
        "  def insertar(self, x):\n",
        "    pass\n",
        "\n",
        "  @abstractmethod\n",
        "  def buscar(self, x):\n",
        "    pass\n",
        "    \n",
        "  @abstractmethod\n",
        "  def eliminar(self, x):\n",
        "    pass"
      ],
      "execution_count": 5,
      "outputs": []
    },
    {
      "cell_type": "markdown",
      "metadata": {
        "id": "AMITzCIgLoTW"
      },
      "source": [
        "## Familia $\\mathcal{H}$ por método de división\n",
        "Comúnmente se busca diseñar funciones _hash_ $h$ que sean independientes de los objetos a almacenar. Un método general para crear funciones _hash_ se conoce como el _método de división_ y consiste en usar el residuo de la división del objeto y el tamaño de la tabla $m$, esto es,\n",
        "\n",
        "\\begin{equation}\n",
        "    h(x) = x \\mod{m}\n",
        "\\end{equation}\n",
        "\n",
        "Es conveniente usar un número primo para $m$.\n",
        "\n",
        "Definimos una clase hija de `TablaHash` que implemente la función anterior. Para resolver colisiones usamos encadenamiento, esto es, cada cubeta o registro de la tabla es una lista que contiene todos los objetos que son mapeados al índice correspondiente."
      ]
    },
    {
      "cell_type": "code",
      "metadata": {
        "id": "GQuJ8Q32HXyK"
      },
      "source": [
        "class THMod(TablaHash):\n",
        "  def h(self, x):\n",
        "    return x % self.n_cubetas\n",
        "\n",
        "  def insertar(self, x):\n",
        "    self.tabla[self.h(x)].append(x)\n",
        "  \n",
        "  def buscar(self, x):\n",
        "    return x in self.tabla[h(x)]\n",
        "      \n",
        "  def eliminar(self, x):\n",
        "    self.tabla[self.h(x)].remove(x)"
      ],
      "execution_count": 6,
      "outputs": []
    },
    {
      "cell_type": "markdown",
      "metadata": {
        "id": "vAKYQ7ISu8-8"
      },
      "source": [
        "Probemos nuestra tabla con un conjunto 5 de números"
      ]
    },
    {
      "cell_type": "code",
      "metadata": {
        "id": "i-_9o9IGM3vi",
        "colab": {
          "base_uri": "https://localhost:8080/"
        },
        "outputId": "d05f018e-e369-479f-fade-c0c4ae3a77ba"
      },
      "source": [
        "enteros = [1, 10, 36, 78, 93]\n",
        "n_cubetas = 11\n",
        "\n",
        "thmod = THMod(n_cubetas)\n",
        "for i,e in enumerate(enteros):\n",
        "  thmod.insertar(e)\n",
        "print(thmod)"
      ],
      "execution_count": 7,
      "outputs": [
        {
          "output_type": "stream",
          "text": [
            "1::[1, 78]\n",
            "3::[36]\n",
            "5::[93]\n",
            "10::[10]\n"
          ],
          "name": "stdout"
        }
      ]
    },
    {
      "cell_type": "markdown",
      "metadata": {
        "id": "bXFhCKJ_TI3x"
      },
      "source": [
        "¿Qué pasa si tenemos una lista de objetos más grande?"
      ]
    },
    {
      "cell_type": "code",
      "metadata": {
        "id": "RILzRoZgTRMz",
        "colab": {
          "base_uri": "https://localhost:8080/"
        },
        "outputId": "58b023a1-807d-4a6b-efca-19fa2ce49f0e"
      },
      "source": [
        "enteros = [12454, 73523, 9865, 12310, 12, 864189, 882113, 27, 36, 39654, 4, 481, 1155, 634, 69, 782, 1232, 9433]\n",
        "\n",
        "thmod_mas = THMod(n_cubetas)\n",
        "for i,e in enumerate(enteros):\n",
        "  thmod_mas.insertar(e)\n",
        "print(thmod_mas)"
      ],
      "execution_count": 8,
      "outputs": [
        {
          "output_type": "stream",
          "text": [
            "0::[1155, 1232]\n",
            "1::[12310, 12, 882113, 782]\n",
            "2::[12454]\n",
            "3::[36, 69]\n",
            "4::[4]\n",
            "5::[27]\n",
            "6::[9433]\n",
            "7::[864189, 634]\n",
            "8::[481]\n",
            "9::[9865]\n",
            "10::[73523, 39654]\n"
          ],
          "name": "stdout"
        }
      ]
    },
    {
      "cell_type": "markdown",
      "metadata": {
        "id": "TSiy9M6r3PJy"
      },
      "source": [
        "Para evitar colisiones podemos aumentar el tamaño de la tabla. Suponiendo que  la función anterior es uniforme, ¿cuál sería la probabilidad de colisión si deseamos almacenar $n$ objetos en una tabla de tamaño $m$? Podemos calcular esta probabilidad como el complemento de la probabilidad que no haya colisión.\n",
        "\n",
        "$$\n",
        "\\begin{align*}\n",
        "Pr[h(x) = h(y)] & = 1 - P[h(x) \\ne h(y)] \\\\\n",
        "& =  1 - \\frac{m}{m} \\times \\frac{m - 1}{m} \\times \\cdots \\times \\frac{m - n + 1}{m} \n",
        "\\end{align*}\n",
        "$$"
      ]
    },
    {
      "cell_type": "code",
      "metadata": {
        "id": "kMT0iboe14bR"
      },
      "source": [
        "def cumple(m, n):\n",
        "  prod = 1\n",
        "  for i in range(n):\n",
        "    prod *= (m - i) / m\n",
        "  \n",
        "  return 1.0 - prod"
      ],
      "execution_count": 9,
      "outputs": []
    },
    {
      "cell_type": "markdown",
      "metadata": {
        "id": "bRQr5CctiScX"
      },
      "source": [
        "Este problema está relacionado a la _paradoja del cumpleaños_, en el cual se tienen un conjunto $n$ de personas y se busca calular la probabilidad de que al menos 2 personas cumplan años el mismo día. En este caso las probabilidades para diferentes valores de $n$ quedan de la siguiente manera:"
      ]
    },
    {
      "cell_type": "code",
      "metadata": {
        "id": "w9mHjqz95XDv",
        "colab": {
          "base_uri": "https://localhost:8080/",
          "height": 265
        },
        "outputId": "fc8d3814-37a2-4def-f63a-b0d1f083946b"
      },
      "source": [
        "import matplotlib.pyplot as plt\n",
        "\n",
        "pcs = []\n",
        "n_personas = range(1,90,5)\n",
        "for n in n_personas:\n",
        "  pcs.append(cumple(365, n))\n",
        "\n",
        "plt.plot(range(1,90,5), pcs)\n",
        "plt.show()"
      ],
      "execution_count": 10,
      "outputs": [
        {
          "output_type": "display_data",
          "data": {
            "image/png": "[encoded data removed]",
            "text/plain": [
              "<Figure size 432x288 with 1 Axes>"
            ]
          },
          "metadata": {
            "tags": [],
            "needs_background": "light"
          }
        }
      ]
    },
    {
      "cell_type": "markdown",
      "metadata": {
        "id": "0TU3w1E_qr1y"
      },
      "source": [
        "Regresando al problema de las colisiones en nuestra tabla, las probabilidades para $m = 10$  serían"
      ]
    },
    {
      "cell_type": "code",
      "metadata": {
        "id": "ojLz5tbx6k9Y",
        "colab": {
          "base_uri": "https://localhost:8080/",
          "height": 265
        },
        "outputId": "9840230e-b835-4835-9de4-b2b56bd1a7bb"
      },
      "source": [
        "pcs = []\n",
        "n_personas = range(1,20,5)\n",
        "for n in n_personas:\n",
        "  pcs.append(cumple(11, n))\n",
        "\n",
        "plt.plot(n_personas, pcs)\n",
        "plt.show()"
      ],
      "execution_count": 11,
      "outputs": [
        {
          "output_type": "display_data",
          "data": {
            "image/png": "[encoded data removed]",
            "text/plain": [
              "<Figure size 432x288 with 1 Axes>"
            ]
          },
          "metadata": {
            "tags": [],
            "needs_background": "light"
          }
        }
      ]
    },
    {
      "cell_type": "markdown",
      "metadata": {
        "id": "o-gYft-0rL9r"
      },
      "source": [
        "Podemos hacer más grande el tamaño de la tabla para reducir el número de colisiones. La probabilidad de colisión para $n = 18$ y diferentes valores de $m$ es"
      ]
    },
    {
      "cell_type": "code",
      "metadata": {
        "id": "xyEbrSUG8rxZ"
      },
      "source": [
        "emes = range(1, 1500, 100)\n",
        "n = len(enteros)\n",
        "probs = []\n",
        "for m in emes:\n",
        "  probs.append(cumple(m, n))"
      ],
      "execution_count": 12,
      "outputs": []
    },
    {
      "cell_type": "markdown",
      "metadata": {
        "id": "zGtRphZirk22"
      },
      "source": [
        "En lugar de hacer el cálculo de la probabilidad exacta con la función `cumple`, es posible aproximarla de la siguiente manera:\n",
        "\n",
        "$$\n",
        "P[h(x) = h(y)] \\approx 1 - e^{\\frac{-n^2}{2m}}\n",
        "$$"
      ]
    },
    {
      "cell_type": "code",
      "metadata": {
        "id": "KIIsqfCcrhlO"
      },
      "source": [
        "def cumple_aprox(m, n):\n",
        "  return 1.0 - exp((-n**2) / (2 * m))\n",
        "\n",
        "aprox = []\n",
        "for m in emes:\n",
        "  aprox.append(cumple_aprox(m, n))"
      ],
      "execution_count": 13,
      "outputs": []
    },
    {
      "cell_type": "markdown",
      "metadata": {
        "id": "3j3jk8IusOSr"
      },
      "source": [
        "Graficamos las probabilidades de colisión con diferentes tamaños de tabla calculadas con las 2 estrategias"
      ]
    },
    {
      "cell_type": "code",
      "metadata": {
        "id": "vDfSsytp-88j",
        "colab": {
          "base_uri": "https://localhost:8080/",
          "height": 265
        },
        "outputId": "5b7e7d41-1be0-484d-e5eb-c6d28437c51d"
      },
      "source": [
        "plt.plot(emes, probs, label='$P[h(x) = h(y)]$')\n",
        "plt.plot(emes, aprox, label='Aproximación')\n",
        "plt.legend()\n",
        "plt.show()"
      ],
      "execution_count": 14,
      "outputs": [
        {
          "output_type": "display_data",
          "data": {
            "image/png": "[encoded data removed]",
            "text/plain": [
              "<Figure size 432x288 with 1 Axes>"
            ]
          },
          "metadata": {
            "tags": [],
            "needs_background": "light"
          }
        }
      ]
    },
    {
      "cell_type": "markdown",
      "metadata": {
        "id": "XgyHZrdn94EL"
      },
      "source": [
        "Asimismo, podemos calcular el número esperado de colisiones para valores dados de $m$ y $n$ de la siguiente manera\r\n",
        "\r\n",
        "$$\r\n",
        "\\mathbb{E}[\\text{colisiones}] = n - m \\cdot \\left(1 - \\frac{m - 1}{m}\\right)^{n}\r\n",
        "$$"
      ]
    },
    {
      "cell_type": "code",
      "metadata": {
        "id": "LPY_Jzos7lkv"
      },
      "source": [
        "def n_colisiones_esperado(m, n): \r\n",
        "  return n - m * (1 - ((m - 1) / m)**n)"
      ],
      "execution_count": 15,
      "outputs": []
    },
    {
      "cell_type": "markdown",
      "metadata": {
        "id": "zBNPy3if-bES"
      },
      "source": [
        "Para una tabla con 11 cubetas y 18 números a almacenar esperaríamos el siguiente número de colisiones:"
      ]
    },
    {
      "cell_type": "code",
      "metadata": {
        "colab": {
          "base_uri": "https://localhost:8080/"
        },
        "id": "eI8CadG0-n-q",
        "outputId": "55430062-243f-47ee-864f-ff81719b753b"
      },
      "source": [
        "n_colisiones_esperado(11, 18)"
      ],
      "execution_count": 16,
      "outputs": [
        {
          "output_type": "execute_result",
          "data": {
            "text/plain": [
              "8.978446689001352"
            ]
          },
          "metadata": {
            "tags": []
          },
          "execution_count": 16
        }
      ]
    },
    {
      "cell_type": "markdown",
      "metadata": {
        "id": "N6FfAyzb_RJa"
      },
      "source": [
        "El número de colisiones que ocurrieron para el caso anterior fue:"
      ]
    },
    {
      "cell_type": "code",
      "metadata": {
        "colab": {
          "base_uri": "https://localhost:8080/"
        },
        "id": "B-7d7krN_cr4",
        "outputId": "0525aa21-ae79-4a25-e8ee-5ca930644f09"
      },
      "source": [
        "sum([len(c) - 1 for c in thmod_mas.tabla if len(c) > 1])"
      ],
      "execution_count": 17,
      "outputs": [
        {
          "output_type": "execute_result",
          "data": {
            "text/plain": [
              "7"
            ]
          },
          "metadata": {
            "tags": []
          },
          "execution_count": 17
        }
      ]
    },
    {
      "cell_type": "markdown",
      "metadata": {
        "id": "hZD6XQnlshN0"
      },
      "source": [
        "Si aumentamos el tamaño de la tabla a 281 cubetas esperaríamos"
      ]
    },
    {
      "cell_type": "code",
      "metadata": {
        "colab": {
          "base_uri": "https://localhost:8080/"
        },
        "id": "uh9WukVJ-V7p",
        "outputId": "6270883e-5822-4506-d2c4-0322792e8a9d"
      },
      "source": [
        "n_cubetas = 281\r\n",
        "n_colisiones_esperado(n_cubetas, 18)"
      ],
      "execution_count": 18,
      "outputs": [
        {
          "output_type": "execute_result",
          "data": {
            "text/plain": [
              "0.5342863185881868"
            ]
          },
          "metadata": {
            "tags": []
          },
          "execution_count": 18
        }
      ]
    },
    {
      "cell_type": "markdown",
      "metadata": {
        "id": "upLmanZsoNAW"
      },
      "source": [
        "Registremos los números en una tabla con este número de cubetas"
      ]
    },
    {
      "cell_type": "code",
      "metadata": {
        "id": "A8OP_YyK3OkC",
        "colab": {
          "base_uri": "https://localhost:8080/"
        },
        "outputId": "483f1e04-c53a-44ff-ef79-e0e720223d32"
      },
      "source": [
        "thmod_grande = THMod(n_cubetas)\n",
        "for i,e in enumerate(enteros):\n",
        "  thmod_grande.insertar(e)\n",
        "print(thmod_grande)"
      ],
      "execution_count": 38,
      "outputs": [
        {
          "output_type": "stream",
          "text": [
            "4::[4]\n",
            "12::[12]\n",
            "27::[27]\n",
            "30::[9865]\n",
            "31::[1155]\n",
            "33::[39654]\n",
            "36::[36]\n",
            "54::[882113]\n",
            "69::[69]\n",
            "72::[634]\n",
            "90::[12454]\n",
            "108::[1232]\n",
            "114::[864189]\n",
            "160::[9433]\n",
            "182::[73523]\n",
            "200::[481]\n",
            "220::[782]\n",
            "227::[12310]\n"
          ],
          "name": "stdout"
        }
      ]
    },
    {
      "cell_type": "markdown",
      "metadata": {
        "id": "Fmw1cWIX9dU8"
      },
      "source": [
        "Si tenemos más números para almacenar, el número esperado de colisiones sería:"
      ]
    },
    {
      "cell_type": "code",
      "metadata": {
        "colab": {
          "base_uri": "https://localhost:8080/"
        },
        "id": "G2vHxlXT9DUa",
        "outputId": "a7937307-8112-49dc-99ed-9e68760c80f5"
      },
      "source": [
        "n_objetos = 200\r\n",
        "n_colisiones_esperado(n_cubetas, n_objetos)"
      ],
      "execution_count": 20,
      "outputs": [
        {
          "output_type": "execute_result",
          "data": {
            "text/plain": [
              "56.73636182748538"
            ]
          },
          "metadata": {
            "tags": []
          },
          "execution_count": 20
        }
      ]
    },
    {
      "cell_type": "markdown",
      "metadata": {
        "id": "XbKWF7q-0wSf"
      },
      "source": [
        "Veamos que pasa con nuestra tabla anterior si almacenamos 200 números"
      ]
    },
    {
      "cell_type": "code",
      "metadata": {
        "id": "z44oPSYf04Hk",
        "colab": {
          "base_uri": "https://localhost:8080/"
        },
        "outputId": "6bc2070f-b2ec-432f-d257-5944724cd6fb"
      },
      "source": [
        "conj = np.random.randint(1000, high=5890123, size=n_objetos)\n",
        "thmod_mas_grande = THMod(n_cubetas)\n",
        "for i,e in enumerate(conj):\n",
        "  thmod_mas_grande.insertar(e)\n",
        "print(thmod_mas_grande)"
      ],
      "execution_count": 21,
      "outputs": [
        {
          "output_type": "stream",
          "text": [
            "2::[1814700]\n",
            "4::[5804059, 438645]\n",
            "6::[1578383]\n",
            "7::[1123164]\n",
            "8::[4273456, 4825902]\n",
            "12::[5792827]\n",
            "13::[5454785]\n",
            "16::[94713]\n",
            "18::[4541540]\n",
            "20::[1868951, 5699824]\n",
            "21::[4103745, 1861365]\n",
            "22::[204028]\n",
            "24::[781766]\n",
            "26::[871969, 2896293]\n",
            "31::[5254169]\n",
            "32::[2854992]\n",
            "33::[182402]\n",
            "34::[635375, 4074815]\n",
            "40::[4842232, 4016373]\n",
            "41::[4191718]\n",
            "42::[2128055, 1220706, 342019, 902614]\n",
            "43::[2807795]\n",
            "46::[8476]\n",
            "47::[1263142, 254071]\n",
            "51::[2507414]\n",
            "54::[388115]\n",
            "59::[2240191, 3509468]\n",
            "60::[1595297, 4728166]\n",
            "62::[3609226]\n",
            "63::[5883922]\n",
            "65::[2876381]\n",
            "66::[2851092]\n",
            "67::[1922669, 3073083]\n",
            "70::[4806294]\n",
            "72::[4849851]\n",
            "73::[518237, 4934433]\n",
            "74::[5182838]\n",
            "75::[4487926]\n",
            "76::[4381147]\n",
            "78::[1008306]\n",
            "80::[5145190]\n",
            "83::[809644]\n",
            "84::[4721446]\n",
            "85::[4754043]\n",
            "92::[2654699]\n",
            "93::[3762964]\n",
            "97::[4001537]\n",
            "98::[3536764]\n",
            "101::[2091303]\n",
            "103::[2200333]\n",
            "104::[235020]\n",
            "105::[2380175, 3589318, 2328190]\n",
            "107::[217039, 663829]\n",
            "109::[48160]\n",
            "110::[1721516]\n",
            "111::[1643118]\n",
            "112::[4159755]\n",
            "116::[3571345]\n",
            "120::[5640914, 2272005]\n",
            "122::[3283607, 2608926]\n",
            "123::[5264939, 3718315]\n",
            "124::[5196095]\n",
            "125::[1980894]\n",
            "126::[4783027, 926864]\n",
            "127::[2014054]\n",
            "129::[1131435, 3918674]\n",
            "131::[2302083]\n",
            "133::[5621538]\n",
            "134::[1436044, 1264915]\n",
            "136::[5144684, 1299199, 4976646]\n",
            "140::[533478]\n",
            "141::[4567234, 1011741]\n",
            "144::[357295]\n",
            "145::[3495785]\n",
            "149::[2347061]\n",
            "150::[2689601, 5580529]\n",
            "151::[5449584]\n",
            "153::[3261158]\n",
            "154::[3844234]\n",
            "160::[158082, 46244]\n",
            "166::[10001]\n",
            "169::[3628722, 1420905, 5888524]\n",
            "170::[1396740]\n",
            "171::[905834]\n",
            "173::[3665537, 5476020, 3803789]\n",
            "174::[3270452]\n",
            "175::[1741813]\n",
            "176::[3833578, 463264]\n",
            "177::[4481565]\n",
            "179::[4719574, 2783484]\n",
            "182::[1001666]\n",
            "183::[3409275, 2083517]\n",
            "184::[4247499]\n",
            "186::[2965298]\n",
            "188::[3429231]\n",
            "190::[1041857]\n",
            "191::[3902438]\n",
            "192::[1949489]\n",
            "197::[2396565]\n",
            "198::[1784548, 5134349]\n",
            "199::[2671666, 1240533]\n",
            "200::[17903]\n",
            "201::[5193924]\n",
            "202::[1232106]\n",
            "203::[2972621]\n",
            "208::[954765, 4141024]\n",
            "209::[679386]\n",
            "211::[3439932, 14542]\n",
            "213::[5770548]\n",
            "217::[4537524]\n",
            "218::[878062, 3045977]\n",
            "222::[1778671, 1579442]\n",
            "223::[3693687, 2832984, 4632789]\n",
            "224::[3368571, 1136026]\n",
            "225::[1050884, 2940047]\n",
            "228::[2244575]\n",
            "229::[5082114]\n",
            "232::[2692493]\n",
            "233::[578531]\n",
            "235::[1079556, 1735972]\n",
            "236::[309336]\n",
            "243::[675486]\n",
            "244::[1729237]\n",
            "247::[2678458]\n",
            "248::[5412589, 3772954, 1101206]\n",
            "250::[1549403, 3513312, 1303528]\n",
            "251::[3251983]\n",
            "252::[4112125]\n",
            "253::[4426846, 3074112]\n",
            "255::[50273, 2760518]\n",
            "257::[1042205]\n",
            "259::[391130]\n",
            "260::[365279]\n",
            "265::[3744028]\n",
            "267::[773579, 2170149]\n",
            "268::[377370, 1556727]\n",
            "270::[1354690, 547939]\n",
            "272::[1228804]\n",
            "275::[2718669]\n",
            "277::[3925847, 1171485]\n",
            "278::[3337434, 2660224]\n",
            "279::[2009710]\n"
          ],
          "name": "stdout"
        }
      ]
    },
    {
      "cell_type": "markdown",
      "metadata": {
        "id": "1FGxZ9lBoiPt"
      },
      "source": [
        "Examinemos la cantidad de números mapeados a cada cubeta por nuestra función _hash_"
      ]
    },
    {
      "cell_type": "code",
      "metadata": {
        "colab": {
          "base_uri": "https://localhost:8080/",
          "height": 279
        },
        "id": "sh3sEIWuAtzy",
        "outputId": "20b32f42-b4e2-4c09-b651-5e6b74f4bd4f"
      },
      "source": [
        "cubetas = [c for c in range(n_cubetas)]\r\n",
        "tam_cubetas = [len(c) for c in thmod_mas_grande.tabla]\r\n",
        "plt.bar(cubetas, tam_cubetas)\r\n",
        "plt.xlabel('Cubeta')\r\n",
        "plt.ylabel(u'Número de colisiones')\r\n",
        "plt.show()"
      ],
      "execution_count": 22,
      "outputs": [
        {
          "output_type": "display_data",
          "data": {
            "image/png": "[encoded data removed]",
            "text/plain": [
              "<Figure size 432x288 with 1 Axes>"
            ]
          },
          "metadata": {
            "tags": [],
            "needs_background": "light"
          }
        }
      ]
    },
    {
      "cell_type": "markdown",
      "metadata": {
        "id": "GpHPzx5iowTF"
      },
      "source": [
        "El número de colisiones que ocurrieron es"
      ]
    },
    {
      "cell_type": "code",
      "metadata": {
        "colab": {
          "base_uri": "https://localhost:8080/"
        },
        "id": "oEvBoCvU7wAK",
        "outputId": "c1b98bab-2ddf-4c13-f983-0b65ea589cb2"
      },
      "source": [
        "sum([len(c) - 1 for c in thmod_mas_grande.tabla if len(c) > 1])"
      ],
      "execution_count": 23,
      "outputs": [
        {
          "output_type": "execute_result",
          "data": {
            "text/plain": [
              "58"
            ]
          },
          "metadata": {
            "tags": []
          },
          "execution_count": 23
        }
      ]
    },
    {
      "cell_type": "markdown",
      "metadata": {
        "id": "NdBQD3U2vSds"
      },
      "source": [
        "## Direccionamiento abierto\n",
        "\n",
        "En lugar de usar encadenamiento, podemos usar direccionamiento abierto resolver colisiones. En esta estrategia, si hay una colisión, se sondean otras cubetas o registros en la tabla hasta encontrar una libre. Si no hay ninguna disponible decimos que la tabla está llena y es necesario aumentar su tamaño para poder almacenar más objetos. \n",
        "\n",
        "Para determinar el siguiente índice a examinar es necesario extender la función hash para que incorpore la información de índice. Esta función debe garantizar que se examinen todos los índices en caso de que ninguno esté disponible. \n",
        "\n",
        "### Sondeo lineal\n",
        "Una estrategia común para extender nuestra función _hash_ es el sondeo lineal, el cual está dado por\n",
        "\n",
        "$$\n",
        "h(x, i) = (h'(x) + i)\\mod{m}\n",
        "$$\n"
      ]
    },
    {
      "cell_type": "code",
      "metadata": {
        "id": "hQR1PIsnyCPt"
      },
      "source": [
        "class THModOA(TablaHash):\n",
        "  def __init__(self, n_cubetas):\n",
        "    super().__init__(n_cubetas)\n",
        "    self.colisiones = np.zeros(n_cubetas)\n",
        "\n",
        "  def h(self, x):\n",
        "    return x % self.n_cubetas\n",
        "\n",
        "  def sl(self, x, i):\n",
        "    return (self.h(x) + i) % self.n_cubetas\n",
        "\n",
        "  def insertar(self, x):\n",
        "    llena = True\n",
        "    for i in range(self.n_cubetas):\n",
        "      ind = self.sl(x, i)\n",
        "\n",
        "      if i == 0:\n",
        "        self.colisiones[ind] += 1\n",
        "        \n",
        "      if not self.tabla[ind]:\n",
        "        self.tabla[ind].append(x)\n",
        "        llena = False\n",
        "        break\n",
        "\n",
        "    if llena:\n",
        "      print('Tabla llena')\n",
        "\n",
        "  def buscar(self, x):\n",
        "    for i in range(self.n_cubetas):\n",
        "      ind = self.sl(x, i)\n",
        "      if self.tabla[ind][0] == x:\n",
        "        return ind\n",
        "\n",
        "    return -1\n",
        "\n",
        "  def eliminar(self, x):\n",
        "    for i in range(self.n_cubetas):\n",
        "      ind = self.sl(x, i)\n",
        "      if self.tabla[ind][0] == x:\n",
        "        self.tabla[ind].remove(x)"
      ],
      "execution_count": 24,
      "outputs": []
    },
    {
      "cell_type": "markdown",
      "metadata": {
        "id": "XYg-6MR01hXF"
      },
      "source": [
        "Intentemos nuevamente con el conjunto anterior usando esta estrategia"
      ]
    },
    {
      "cell_type": "code",
      "metadata": {
        "id": "ZLhbdp9P1oFV",
        "colab": {
          "base_uri": "https://localhost:8080/"
        },
        "outputId": "736107e0-321a-45f4-f2b5-89221567f3b6"
      },
      "source": [
        "thmodoa = THModOA(n_cubetas)\n",
        "for i,e in enumerate(conj):\n",
        "  thmodoa.insertar(e)\n",
        "print(thmodoa)"
      ],
      "execution_count": 25,
      "outputs": [
        {
          "output_type": "stream",
          "text": [
            "0::[2660224]\n",
            "2::[1814700]\n",
            "4::[5804059]\n",
            "5::[438645]\n",
            "6::[1578383]\n",
            "7::[1123164]\n",
            "8::[4273456]\n",
            "9::[4825902]\n",
            "12::[5792827]\n",
            "13::[5454785]\n",
            "16::[94713]\n",
            "18::[4541540]\n",
            "20::[1868951]\n",
            "21::[4103745]\n",
            "22::[204028]\n",
            "23::[1861365]\n",
            "24::[781766]\n",
            "25::[5699824]\n",
            "26::[871969]\n",
            "27::[2896293]\n",
            "31::[5254169]\n",
            "32::[2854992]\n",
            "33::[182402]\n",
            "34::[635375]\n",
            "35::[4074815]\n",
            "40::[4842232]\n",
            "41::[4016373]\n",
            "42::[2128055]\n",
            "43::[2807795]\n",
            "44::[1220706]\n",
            "45::[342019]\n",
            "46::[902614]\n",
            "47::[4191718]\n",
            "48::[8476]\n",
            "49::[1263142]\n",
            "50::[254071]\n",
            "51::[2507414]\n",
            "54::[388115]\n",
            "59::[2240191]\n",
            "60::[1595297]\n",
            "61::[4728166]\n",
            "62::[3609226]\n",
            "63::[5883922]\n",
            "64::[3509468]\n",
            "65::[2876381]\n",
            "66::[2851092]\n",
            "67::[1922669]\n",
            "68::[3073083]\n",
            "70::[4806294]\n",
            "72::[4849851]\n",
            "73::[518237]\n",
            "74::[4934433]\n",
            "75::[4487926]\n",
            "76::[4381147]\n",
            "77::[5182838]\n",
            "78::[1008306]\n",
            "80::[5145190]\n",
            "83::[809644]\n",
            "84::[4721446]\n",
            "85::[4754043]\n",
            "92::[2654699]\n",
            "93::[3762964]\n",
            "97::[4001537]\n",
            "98::[3536764]\n",
            "101::[2091303]\n",
            "103::[2200333]\n",
            "104::[235020]\n",
            "105::[2380175]\n",
            "106::[3589318]\n",
            "107::[217039]\n",
            "108::[663829]\n",
            "109::[48160]\n",
            "110::[1721516]\n",
            "111::[1643118]\n",
            "112::[2328190]\n",
            "113::[4159755]\n",
            "116::[3571345]\n",
            "120::[5640914]\n",
            "121::[2272005]\n",
            "122::[3283607]\n",
            "123::[5264939]\n",
            "124::[5196095]\n",
            "125::[1980894]\n",
            "126::[4783027]\n",
            "127::[2014054]\n",
            "128::[926864]\n",
            "129::[1131435]\n",
            "130::[3718315]\n",
            "131::[2302083]\n",
            "132::[3918674]\n",
            "133::[5621538]\n",
            "134::[1436044]\n",
            "135::[1264915]\n",
            "136::[5144684]\n",
            "137::[1299199]\n",
            "138::[4976646]\n",
            "139::[2608926]\n",
            "140::[533478]\n",
            "141::[4567234]\n",
            "142::[1011741]\n",
            "144::[357295]\n",
            "145::[3495785]\n",
            "149::[2347061]\n",
            "150::[2689601]\n",
            "151::[5449584]\n",
            "152::[5580529]\n",
            "153::[3261158]\n",
            "154::[3844234]\n",
            "160::[158082]\n",
            "161::[46244]\n",
            "166::[10001]\n",
            "169::[3628722]\n",
            "170::[1396740]\n",
            "171::[1420905]\n",
            "172::[905834]\n",
            "173::[3665537]\n",
            "174::[3270452]\n",
            "175::[1741813]\n",
            "176::[3833578]\n",
            "177::[4481565]\n",
            "178::[5476020]\n",
            "179::[4719574]\n",
            "180::[2783484]\n",
            "181::[463264]\n",
            "182::[1001666]\n",
            "183::[3409275]\n",
            "184::[2083517]\n",
            "185::[4247499]\n",
            "186::[2965298]\n",
            "187::[3803789]\n",
            "188::[3429231]\n",
            "189::[5888524]\n",
            "190::[1041857]\n",
            "191::[3902438]\n",
            "192::[1949489]\n",
            "197::[2396565]\n",
            "198::[1784548]\n",
            "199::[2671666]\n",
            "200::[5134349]\n",
            "201::[1240533]\n",
            "202::[17903]\n",
            "203::[2972621]\n",
            "204::[5193924]\n",
            "205::[1232106]\n",
            "208::[954765]\n",
            "209::[4141024]\n",
            "210::[679386]\n",
            "211::[3439932]\n",
            "212::[14542]\n",
            "213::[5770548]\n",
            "217::[4537524]\n",
            "218::[878062]\n",
            "219::[3045977]\n",
            "222::[1778671]\n",
            "223::[3693687]\n",
            "224::[2832984]\n",
            "225::[1050884]\n",
            "226::[4632789]\n",
            "227::[3368571]\n",
            "228::[1136026]\n",
            "229::[5082114]\n",
            "230::[2244575]\n",
            "231::[2940047]\n",
            "232::[2692493]\n",
            "233::[578531]\n",
            "234::[1579442]\n",
            "235::[1079556]\n",
            "236::[309336]\n",
            "237::[1735972]\n",
            "243::[675486]\n",
            "244::[1729237]\n",
            "247::[2678458]\n",
            "248::[5412589]\n",
            "249::[3772954]\n",
            "250::[1101206]\n",
            "251::[1549403]\n",
            "252::[3513312]\n",
            "253::[4426846]\n",
            "254::[3074112]\n",
            "255::[3251983]\n",
            "256::[1303528]\n",
            "257::[1042205]\n",
            "258::[50273]\n",
            "259::[391130]\n",
            "260::[365279]\n",
            "261::[2760518]\n",
            "262::[4112125]\n",
            "265::[3744028]\n",
            "267::[773579]\n",
            "268::[377370]\n",
            "269::[1556727]\n",
            "270::[2170149]\n",
            "271::[1354690]\n",
            "272::[1228804]\n",
            "273::[547939]\n",
            "275::[2718669]\n",
            "277::[3925847]\n",
            "278::[3337434]\n",
            "279::[2009710]\n",
            "280::[1171485]\n"
          ],
          "name": "stdout"
        }
      ]
    },
    {
      "cell_type": "markdown",
      "metadata": {
        "id": "DXXu94ynjVQ7"
      },
      "source": [
        "## Familias por método de multiplicación\n",
        "Otra estrategia para diseñar funciones _hash_ es el de multiplicación. En este método primero se multiplica el objeto $x$ por una constante $a \\in (0,1)$ y se extrae la parte fraccional de $a \\cdot x$. Posteriormente, se multiplica este valor por $m$ y se toma la función piso $\\lfloor\\rfloor$\n",
        "$$\n",
        "h(x) = \\lfloor m  \\cdot (x \\cdot a \\mod 1)\\rfloor\n",
        "$$\n",
        "\n",
        "donde $a$ es una constante."
      ]
    },
    {
      "cell_type": "code",
      "metadata": {
        "id": "ma5iEI2hkCgb"
      },
      "source": [
        "class THMultOA(TablaHash):\n",
        "  def __init__(self, n_cubetas, a):\n",
        "    super().__init__(n_cubetas)\n",
        "    self.colisiones = np.zeros(n_cubetas)    \n",
        "    self.a = a\n",
        "  \n",
        "  def h(self, x):\n",
        "    return floor(((self.a * x) % 1) * self.n_cubetas) \n",
        "\n",
        "  def sl(self, x, i):\n",
        "    return (self.h(x) + i) % self.n_cubetas\n",
        "\n",
        "  def insertar(self, x):\n",
        "    llena = True\n",
        "    for i in range(self.n_cubetas):\n",
        "      ind = self.sl(x, i)\n",
        "\n",
        "      if i == 0:\n",
        "        self.colisiones[ind] += 1\n",
        "      \n",
        "      if not self.tabla[ind]:\n",
        "        self.tabla[ind].append(x)\n",
        "        llena = False\n",
        "        break\n",
        "\n",
        "    if llena:\n",
        "      print('Tabla llena')\n",
        "\n",
        "  def buscar(self, x):\n",
        "    for i in range(self.n_cubetas):\n",
        "      ind = self.sl(x, i)\n",
        "      if self.tabla[ind][0] == x:\n",
        "        return ind\n",
        "\n",
        "    return -1\n",
        "\n",
        "  def eliminar(self, x):\n",
        "    for i in range(self.n_cubetas):\n",
        "      ind = self.sl(x, i)\n",
        "      if self.tabla[ind][0] == x:\n",
        "        self.tabla[ind].remove(x)"
      ],
      "execution_count": 29,
      "outputs": []
    },
    {
      "cell_type": "markdown",
      "metadata": {
        "id": "fuS5T2XC3lvh"
      },
      "source": [
        "Aunque $a$ puede tomar cualquier valor en el intervalo $(0,1)$, hay algunos valores que funcionan mejor que otros. Donald Knuth recomienda $a \\approx \\frac{\\sqrt{5} - 1}{2}$."
      ]
    },
    {
      "cell_type": "code",
      "metadata": {
        "id": "KdEUfs2u7tui",
        "colab": {
          "base_uri": "https://localhost:8080/"
        },
        "outputId": "bbb3cf78-2d04-4bd7-befe-3e2522618a71"
      },
      "source": [
        "thmultoa = THMultOA(281, (sqrt(5) - 1) / 2)\n",
        "for i,e in enumerate(conj):\n",
        "  thmultoa.insertar(e)\n",
        "print(thmultoa)"
      ],
      "execution_count": 30,
      "outputs": [
        {
          "output_type": "stream",
          "text": [
            "0::[1436044]\n",
            "4::[4112125]\n",
            "6::[3251983]\n",
            "7::[4016373]\n",
            "8::[1050884]\n",
            "9::[5254169]\n",
            "10::[1041857]\n",
            "11::[5182838]\n",
            "13::[158082]\n",
            "14::[2380175]\n",
            "15::[3718315]\n",
            "16::[4273456]\n",
            "17::[4806294]\n",
            "18::[4632789]\n",
            "19::[4537524]\n",
            "21::[2507414]\n",
            "22::[518237]\n",
            "23::[2678458]\n",
            "24::[2009710]\n",
            "25::[4541540]\n",
            "26::[2854992]\n",
            "29::[4721446]\n",
            "30::[3693687]\n",
            "31::[1042205]\n",
            "32::[773579]\n",
            "36::[902614]\n",
            "37::[1778671]\n",
            "38::[5449584]\n",
            "39::[1299199]\n",
            "40::[4719574]\n",
            "44::[4754043]\n",
            "45::[878062]\n",
            "46::[309336]\n",
            "47::[4074815]\n",
            "50::[2240191]\n",
            "52::[2692493]\n",
            "53::[5082114]\n",
            "54::[5134349]\n",
            "55::[1556727]\n",
            "56::[4191718]\n",
            "57::[905834]\n",
            "59::[2654699]\n",
            "62::[954765]\n",
            "63::[2876381]\n",
            "64::[3513312]\n",
            "67::[204028]\n",
            "68::[1729237]\n",
            "69::[1868951]\n",
            "70::[5264939]\n",
            "71::[4783027]\n",
            "73::[388115]\n",
            "76::[3844234]\n",
            "78::[1814700]\n",
            "80::[1131435]\n",
            "81::[4426846]\n",
            "82::[4728166]\n",
            "83::[5145190]\n",
            "84::[1079556]\n",
            "86::[675486]\n",
            "87::[2272005]\n",
            "88::[3429231]\n",
            "89::[2128055]\n",
            "90::[1784548]\n",
            "91::[3902438]\n",
            "92::[4934433]\n",
            "93::[2083517]\n",
            "94::[2091303]\n",
            "95::[3609226]\n",
            "96::[1578383]\n",
            "97::[635375]\n",
            "98::[235020]\n",
            "99::[5196095]\n",
            "100::[1011741]\n",
            "101::[3536764]\n",
            "102::[46244]\n",
            "103::[342019]\n",
            "104::[3368571]\n",
            "105::[3045977]\n",
            "106::[4976646]\n",
            "107::[1008306]\n",
            "108::[1232106]\n",
            "110::[2671666]\n",
            "112::[1721516]\n",
            "113::[2832984]\n",
            "118::[50273]\n",
            "126::[14542]\n",
            "127::[3665537]\n",
            "128::[926864]\n",
            "129::[4825902]\n",
            "130::[1949489]\n",
            "131::[1354690]\n",
            "132::[2347061]\n",
            "133::[1264915]\n",
            "134::[217039]\n",
            "135::[871969]\n",
            "136::[377370]\n",
            "137::[3261158]\n",
            "138::[3270452]\n",
            "139::[4481565]\n",
            "140::[357295]\n",
            "141::[3833578]\n",
            "142::[8476]\n",
            "143::[809644]\n",
            "144::[5476020]\n",
            "145::[48160]\n",
            "146::[3589318]\n",
            "147::[3509468]\n",
            "148::[1123164]\n",
            "149::[3628722]\n",
            "150::[533478]\n",
            "151::[2302083]\n",
            "152::[2896293]\n",
            "153::[1171485]\n",
            "154::[438645]\n",
            "155::[5621538]\n",
            "156::[1240533]\n",
            "157::[3744028]\n",
            "158::[2328190]\n",
            "159::[5193924]\n",
            "160::[254071]\n",
            "161::[5144684]\n",
            "162::[5640914]\n",
            "163::[4141024]\n",
            "164::[1420905]\n",
            "165::[2200333]\n",
            "166::[5454785]\n",
            "167::[3571345]\n",
            "168::[5580529]\n",
            "171::[1303528]\n",
            "175::[2396565]\n",
            "177::[1001666]\n",
            "178::[1741813]\n",
            "179::[1228804]\n",
            "180::[679386]\n",
            "181::[3337434]\n",
            "182::[3762964]\n",
            "183::[182402]\n",
            "184::[391130]\n",
            "185::[2244575]\n",
            "186::[17903]\n",
            "191::[1136026]\n",
            "193::[1263142]\n",
            "196::[1735972]\n",
            "197::[3074112]\n",
            "201::[1549403]\n",
            "202::[2783484]\n",
            "203::[3918674]\n",
            "205::[3283607]\n",
            "206::[1101206]\n",
            "207::[5804059]\n",
            "208::[2807795]\n",
            "209::[3073083]\n",
            "210::[4247499]\n",
            "212::[4381147]\n",
            "213::[2851092]\n",
            "214::[4849851]\n",
            "215::[1595297]\n",
            "216::[1643118]\n",
            "220::[5883922]\n",
            "222::[1922669]\n",
            "223::[1396740]\n",
            "224::[1220706]\n",
            "225::[5770548]\n",
            "226::[4487926]\n",
            "227::[3772954]\n",
            "228::[2972621]\n",
            "230::[578531]\n",
            "231::[1980894]\n",
            "232::[3409275]\n",
            "233::[2014054]\n",
            "234::[2689601]\n",
            "235::[365279]\n",
            "236::[2170149]\n",
            "237::[4567234]\n",
            "238::[2718669]\n",
            "239::[1861365]\n",
            "240::[2660224]\n",
            "241::[1579442]\n",
            "242::[94713]\n",
            "245::[4001537]\n",
            "247::[3925847]\n",
            "248::[663829]\n",
            "249::[3803789]\n",
            "250::[4103745]\n",
            "251::[3439932]\n",
            "252::[463264]\n",
            "260::[547939]\n",
            "264::[2608926]\n",
            "266::[3495785]\n",
            "267::[2965298]\n",
            "268::[2760518]\n",
            "269::[4842232]\n",
            "270::[781766]\n",
            "271::[10001]\n",
            "272::[5412589]\n",
            "273::[4159755]\n",
            "274::[5792827]\n",
            "275::[5699824]\n",
            "276::[2940047]\n",
            "277::[5888524]\n"
          ],
          "name": "stdout"
        }
      ]
    },
    {
      "cell_type": "markdown",
      "metadata": {
        "id": "MSDj9WqQpgbP"
      },
      "source": [
        "La cantidad de números mapeados a cada cubeta por esta función _hash_ es"
      ]
    },
    {
      "cell_type": "code",
      "metadata": {
        "colab": {
          "base_uri": "https://localhost:8080/",
          "height": 279
        },
        "id": "SDAzDjByutOQ",
        "outputId": "af5f341f-3cc2-4625-8ada-96ff4143c128"
      },
      "source": [
        "plt.bar(np.arange(thmultoa.colisiones.size), thmultoa.colisiones)\r\n",
        "plt.xlabel('Cubeta')\r\n",
        "plt.ylabel(u'Número de colisiones')\r\n",
        "plt.show()"
      ],
      "execution_count": 39,
      "outputs": [
        {
          "output_type": "display_data",
          "data": {
            "image/png": "[encoded data removed]",
            "text/plain": [
              "<Figure size 432x288 with 1 Axes>"
            ]
          },
          "metadata": {
            "tags": [],
            "needs_background": "light"
          }
        }
      ]
    },
    {
      "cell_type": "markdown",
      "metadata": {
        "id": "-gRSu_rtpqRO"
      },
      "source": [
        "El total de colisiones que ocurrieron en la tabla fue"
      ]
    },
    {
      "cell_type": "code",
      "metadata": {
        "colab": {
          "base_uri": "https://localhost:8080/"
        },
        "id": "aj-HZEUnFcOS",
        "outputId": "2edbd42d-357f-4ced-f84d-cab648e4dcb2"
      },
      "source": [
        "np.sum(thmultoa.colisiones[thmultoa.colisiones > 1] - 1)"
      ],
      "execution_count": 40,
      "outputs": [
        {
          "output_type": "execute_result",
          "data": {
            "text/plain": [
              "50.0"
            ]
          },
          "metadata": {
            "tags": []
          },
          "execution_count": 40
        }
      ]
    },
    {
      "cell_type": "markdown",
      "metadata": {
        "id": "hC9YB93xMuof"
      },
      "source": [
        "## Familia de funciones _hash_ universal\r\n",
        "Una familia de funciones universal es\r\n",
        "$$\r\n",
        "\\mathcal{H}_{a,b}(x) = ((a\\cdot x + b)\\mod{p})\\mod{m}\r\n",
        "$$\r\n",
        "\r\n",
        "donde $p$ es un número primo muy grande, $a \\in \\{1, 2, \\ldots, p-1\\}$ y $b\\in \\{0, 1, 2, \\ldots, p-1\\}$"
      ]
    },
    {
      "cell_type": "code",
      "metadata": {
        "id": "DHZCTK0INIZ_"
      },
      "source": [
        "class THUnivOA(TablaHash):\r\n",
        "  def __init__(self, n_cubetas, a, b, primo):\r\n",
        "    super().__init__(n_cubetas)\r\n",
        "    self.colisiones = np.zeros(n_cubetas) \r\n",
        "    self.a = a\r\n",
        "    self.b = b\r\n",
        "    self.primo = primo\r\n",
        "  \r\n",
        "  def h(self, x):\r\n",
        "    return ((self.a * x + self.b) % self.primo) % self.n_cubetas\r\n",
        "\r\n",
        "  def sl(self, x, i):\r\n",
        "    return (self.h(x) + i) % self.n_cubetas\r\n",
        "\r\n",
        "  def insertar(self, x):\r\n",
        "    llena = True\r\n",
        "    for i in range(self.n_cubetas):\r\n",
        "      ind = self.sl(x, i)\r\n",
        "      \r\n",
        "      if i == 0:\r\n",
        "        self.colisiones[ind] += 1\r\n",
        "      \r\n",
        "      if not self.tabla[ind]:\r\n",
        "        self.tabla[ind].append(x)\r\n",
        "        llena = False\r\n",
        "        break\r\n",
        "\r\n",
        "    if llena:\r\n",
        "      print('Tabla llena')\r\n",
        "\r\n",
        "  def buscar(self, x):\r\n",
        "    for i in range(self.n_cubetas):\r\n",
        "      ind = self.sl(x, i)\r\n",
        "      if self.tabla[ind][0] == x:\r\n",
        "        return ind\r\n",
        "\r\n",
        "    return -1\r\n",
        "\r\n",
        "  def eliminar(self, x):\r\n",
        "    for i in range(self.n_cubetas):\r\n",
        "      ind = self.sl(x, i)\r\n",
        "      if self.tabla[ind][0] == x:\r\n",
        "        self.tabla[ind].remove(x)"
      ],
      "execution_count": 33,
      "outputs": []
    },
    {
      "cell_type": "markdown",
      "metadata": {
        "id": "5p6OyPbT7CzB"
      },
      "source": [
        "Instanciamos nuestra tabla con función _hash_ universal y almacenamos el conjunto de 200 números"
      ]
    },
    {
      "cell_type": "code",
      "metadata": {
        "colab": {
          "base_uri": "https://localhost:8080/"
        },
        "id": "bzk8t5JlwXFq",
        "outputId": "37d566ac-328c-4469-85fa-d4bac833ece0"
      },
      "source": [
        "a = random.randint(1, 4294967291 - 1)\r\n",
        "b = random.randint(0, 4294967291 - 1)\r\n",
        "thunivoa = THUnivOA(281, a, b, 4294967291)\r\n",
        "for i,e in enumerate(conj):\r\n",
        "  thunivoa.insertar(e)\r\n",
        "print(thunivoa)"
      ],
      "execution_count": 34,
      "outputs": [
        {
          "output_type": "stream",
          "text": [
            "5::[5144684]\n",
            "6::[5134349]\n",
            "7::[2660224]\n",
            "9::[5182838]\n",
            "10::[1579442]\n",
            "11::[4074815]\n",
            "12::[2347061]\n",
            "13::[3283607]\n",
            "14::[518237]\n",
            "15::[4783027]\n",
            "16::[14542]\n",
            "17::[8476]\n",
            "18::[2783484]\n",
            "19::[1041857]\n",
            "22::[4426846]\n",
            "23::[2396565]\n",
            "24::[10001]\n",
            "29::[4487926]\n",
            "33::[4825902]\n",
            "35::[4247499]\n",
            "36::[46244]\n",
            "37::[1949489]\n",
            "38::[1354690]\n",
            "39::[3251983]\n",
            "40::[1436044]\n",
            "41::[17903]\n",
            "42::[1643118]\n",
            "44::[1741813]\n",
            "49::[902614]\n",
            "50::[1868951]\n",
            "51::[388115]\n",
            "52::[48160]\n",
            "53::[4976646]\n",
            "55::[2507414]\n",
            "56::[1595297]\n",
            "57::[4141024]\n",
            "58::[3589318]\n",
            "59::[3337434]\n",
            "60::[5449584]\n",
            "61::[365279]\n",
            "62::[5699824]\n",
            "63::[1011741]\n",
            "64::[3536764]\n",
            "65::[1263142]\n",
            "68::[5193924]\n",
            "70::[1861365]\n",
            "71::[3073083]\n",
            "72::[954765]\n",
            "73::[905834]\n",
            "75::[254071]\n",
            "77::[533478]\n",
            "78::[217039]\n",
            "79::[1729237]\n",
            "80::[3772954]\n",
            "81::[377370]\n",
            "82::[50273]\n",
            "83::[2014054]\n",
            "84::[5196095]\n",
            "85::[5792827]\n",
            "86::[1101206]\n",
            "87::[204028]\n",
            "88::[1001666]\n",
            "89::[4273456]\n",
            "90::[4191718]\n",
            "91::[2608926]\n",
            "92::[2896293]\n",
            "93::[4754043]\n",
            "97::[1136026]\n",
            "98::[3803789]\n",
            "100::[4016373]\n",
            "101::[4632789]\n",
            "102::[3609226]\n",
            "103::[1264915]\n",
            "104::[1042205]\n",
            "105::[2832984]\n",
            "106::[2128055]\n",
            "107::[3261158]\n",
            "108::[2009710]\n",
            "109::[2851092]\n",
            "110::[3925847]\n",
            "111::[578531]\n",
            "112::[5145190]\n",
            "113::[781766]\n",
            "114::[3439932]\n",
            "115::[357295]\n",
            "116::[4849851]\n",
            "117::[1303528]\n",
            "118::[2854992]\n",
            "122::[5082114]\n",
            "123::[926864]\n",
            "124::[3762964]\n",
            "125::[2083517]\n",
            "126::[2807795]\n",
            "127::[1814700]\n",
            "128::[5254169]\n",
            "131::[547939]\n",
            "132::[2240191]\n",
            "133::[4567234]\n",
            "134::[3902438]\n",
            "135::[871969]\n",
            "136::[5412589]\n",
            "137::[663829]\n",
            "138::[3744028]\n",
            "139::[1778671]\n",
            "140::[2692493]\n",
            "141::[1050884]\n",
            "142::[3918674]\n",
            "143::[158082]\n",
            "144::[3513312]\n",
            "145::[2760518]\n",
            "146::[2876381]\n",
            "147::[1171485]\n",
            "148::[4541540]\n",
            "149::[5264939]\n",
            "150::[1396740]\n",
            "151::[3833578]\n",
            "152::[3665537]\n",
            "153::[1922669]\n",
            "154::[2972621]\n",
            "155::[3509468]\n",
            "156::[1232106]\n",
            "157::[2940047]\n",
            "158::[4103745]\n",
            "159::[4112125]\n",
            "160::[4481565]\n",
            "161::[342019]\n",
            "162::[878062]\n",
            "163::[309336]\n",
            "164::[4806294]\n",
            "166::[5883922]\n",
            "167::[5804059]\n",
            "168::[182402]\n",
            "170::[3368571]\n",
            "172::[2380175]\n",
            "173::[2689601]\n",
            "174::[3409275]\n",
            "175::[4721446]\n",
            "177::[2272005]\n",
            "179::[4934433]\n",
            "181::[5621538]\n",
            "183::[438645]\n",
            "184::[5476020]\n",
            "188::[5770548]\n",
            "189::[5888524]\n",
            "190::[3429231]\n",
            "191::[1784548]\n",
            "193::[1008306]\n",
            "195::[3270452]\n",
            "197::[4537524]\n",
            "203::[1228804]\n",
            "205::[809644]\n",
            "206::[1123164]\n",
            "207::[3844234]\n",
            "208::[4719574]\n",
            "209::[1299199]\n",
            "212::[1079556]\n",
            "213::[4159755]\n",
            "215::[391130]\n",
            "216::[5640914]\n",
            "218::[2654699]\n",
            "219::[1131435]\n",
            "220::[1721516]\n",
            "221::[3718315]\n",
            "222::[1735972]\n",
            "223::[2091303]\n",
            "224::[1240533]\n",
            "225::[2200333]\n",
            "230::[675486]\n",
            "231::[3693687]\n",
            "232::[1549403]\n",
            "233::[2244575]\n",
            "234::[1420905]\n",
            "236::[4001537]\n",
            "239::[1980894]\n",
            "243::[3571345]\n",
            "244::[2965298]\n",
            "249::[3495785]\n",
            "254::[2671666]\n",
            "255::[2678458]\n",
            "256::[463264]\n",
            "258::[3628722]\n",
            "259::[4842232]\n",
            "260::[3045977]\n",
            "261::[4381147]\n",
            "262::[94713]\n",
            "263::[2302083]\n",
            "264::[679386]\n",
            "265::[2328190]\n",
            "266::[1578383]\n",
            "267::[5580529]\n",
            "268::[2170149]\n",
            "269::[635375]\n",
            "270::[1556727]\n",
            "271::[3074112]\n",
            "272::[235020]\n",
            "273::[773579]\n",
            "274::[5454785]\n",
            "275::[2718669]\n",
            "276::[1220706]\n",
            "278::[4728166]\n"
          ],
          "name": "stdout"
        }
      ]
    },
    {
      "cell_type": "markdown",
      "metadata": {
        "id": "kqiXWhOUqTbc"
      },
      "source": [
        "La cantidad de números mapeados a cada cubeta por la función _hash_ universal es"
      ]
    },
    {
      "cell_type": "code",
      "metadata": {
        "colab": {
          "base_uri": "https://localhost:8080/",
          "height": 279
        },
        "id": "KNfiUIkl1JaB",
        "outputId": "976554c1-e7e8-4877-cf9e-5a7140b92a97"
      },
      "source": [
        "plt.bar(np.arange(thunivoa.colisiones.size), thunivoa.colisiones)\r\n",
        "plt.xlabel('Cubeta')\r\n",
        "plt.ylabel(u'Número de colisiones')\r\n",
        "plt.show()"
      ],
      "execution_count": 42,
      "outputs": [
        {
          "output_type": "display_data",
          "data": {
            "image/png": "[encoded data removed]",
            "text/plain": [
              "<Figure size 432x288 with 1 Axes>"
            ]
          },
          "metadata": {
            "tags": [],
            "needs_background": "light"
          }
        }
      ]
    },
    {
      "cell_type": "markdown",
      "metadata": {
        "id": "v3LoEAhfqdvu"
      },
      "source": [
        "El número de colisiones totales que ocurrieron es"
      ]
    },
    {
      "cell_type": "code",
      "metadata": {
        "colab": {
          "base_uri": "https://localhost:8080/"
        },
        "id": "22Yk0pXc2FaC",
        "outputId": "aa620ee3-840c-42d1-b46e-563ec2c517a8"
      },
      "source": [
        "np.sum(thunivoa.colisiones[thunivoa.colisiones > 1] - 1)"
      ],
      "execution_count": 43,
      "outputs": [
        {
          "output_type": "execute_result",
          "data": {
            "text/plain": [
              "48.0"
            ]
          },
          "metadata": {
            "tags": []
          },
          "execution_count": 43
        }
      ]
    },
    {
      "cell_type": "markdown",
      "metadata": {
        "id": "T1XP5jzF2Ylw"
      },
      "source": [
        "## Funciones hash para cadenas\r\n",
        "\r\n",
        "Si deseamos almacenar cadenas de símbolos, es necesario convertirla a un solo número. La forma más simple es sumar sus códigos pero esto genera colisiones en palabras que usan los mismos símbolo. Una alternativa es la suma de los códigos multiplicados por un constante elevada a la posición\r\n",
        "\r\n",
        "$$\r\n",
        "f(s) = s_1 \\cdot g^1 + s_2 \\cdot g^2 + \\cdots + s_d \\cdot g^d\r\n",
        "$$\r\n",
        "\r\n",
        "Modificamos nuestra clase anterior para que cuando haya una colisión verifique si es la misma subcadena y si es así lleve la cuenta del número de veces que ocurre."
      ]
    },
    {
      "cell_type": "code",
      "metadata": {
        "id": "5VlZEoIu2cjy"
      },
      "source": [
        "class THUnivCad(THUnivOA):\r\n",
        "  def __init__(self, n_cubetas, a, b, primo, g):\r\n",
        "    super().__init__(n_cubetas, a, b, primo)\r\n",
        "    self.g = g\r\n",
        "  \r\n",
        "  def s2i(self, s):\r\n",
        "    l = [c for c in s]\r\n",
        "    suma = 0\r\n",
        "    for i in l:\r\n",
        "      suma += ord(i) * self.g**ord(i)\r\n",
        "\r\n",
        "    return suma\r\n",
        "\r\n",
        "  def h(self, x):\r\n",
        "    return ((self.a * x + self.b) % self.primo) % self.n_cubetas\r\n",
        "\r\n",
        "  def sl(self, x, i):\r\n",
        "    return (self.h(x) + i) % self.n_cubetas\r\n",
        "\r\n",
        "  def insertar(self, s):\r\n",
        "    x = int(self.s2i(s))\r\n",
        "    llena = True\r\n",
        "    for i in range(self.n_cubetas):\r\n",
        "      ind = self.sl(x, i)\r\n",
        "\r\n",
        "      if i == 0:\r\n",
        "        self.colisiones[ind] += 1\r\n",
        "      \r\n",
        "      if not self.tabla[ind]:\r\n",
        "        self.tabla[ind].append(s)\r\n",
        "        llena = False\r\n",
        "        break\r\n",
        "\r\n",
        "    if llena:\r\n",
        "      print('Tabla llena')\r\n",
        "\r\n",
        "  def buscar(self, s):\r\n",
        "    x = self.s2i(s)\r\n",
        "    for i in range(self.n_cubetas):\r\n",
        "      ind = self.sl(x, i)\r\n",
        "      if self.tabla[ind][0] == s:\r\n",
        "        return ind\r\n",
        "\r\n",
        "    return -1\r\n",
        "\r\n",
        "  def eliminar(self, s):\r\n",
        "    x = self.s2i(s)\r\n",
        "    for i in range(self.n_cubetas):\r\n",
        "      ind = self.sl(x, i)\r\n",
        "      if self.tabla[ind][0] == s:\r\n",
        "        self.tabla[ind].remove(s)"
      ],
      "execution_count": 74,
      "outputs": []
    },
    {
      "cell_type": "markdown",
      "metadata": {
        "id": "jFexXZpvuR7u"
      },
      "source": [
        "Veamos un ejemplo"
      ]
    },
    {
      "cell_type": "code",
      "metadata": {
        "colab": {
          "base_uri": "https://localhost:8080/"
        },
        "id": "HIN9FN69uS6l",
        "outputId": "e1490ead-a7c4-40b9-e929-26c4b685371d"
      },
      "source": [
        "nombres = ['blanca', 'juan', 'pedro', 'julia', 'serena', 'enrique', 'jose', 'alfonso', 'rodolfo', 'ignacio', 'gibran', 'mariana']\r\n",
        "thucad = THUnivCad(281, a, b, 4294967291, 1.1)\r\n",
        "for e in nombres:\r\n",
        "  thucad.insertar(e)\r\n",
        "print(thucad)"
      ],
      "execution_count": 78,
      "outputs": [
        {
          "output_type": "stream",
          "text": [
            "3::['jose']\n",
            "7::['julia']\n",
            "15::['alfonso']\n",
            "74::['blanca']\n",
            "129::['enrique']\n",
            "141::['juan']\n",
            "161::['ignacio']\n",
            "179::['serena']\n",
            "195::['mariana']\n",
            "250::['pedro']\n",
            "262::['gibran']\n",
            "275::['rodolfo']\n"
          ],
          "name": "stdout"
        }
      ]
    },
    {
      "cell_type": "markdown",
      "metadata": {
        "id": "DzYjzzldubvt"
      },
      "source": [
        "Revisemos la cantidad de nombres mapeados a cada cubeta"
      ]
    },
    {
      "cell_type": "code",
      "metadata": {
        "colab": {
          "base_uri": "https://localhost:8080/",
          "height": 279
        },
        "id": "ncPME6aoucP5",
        "outputId": "c27f0ba9-6949-4ee4-99de-065a882db93e"
      },
      "source": [
        "plt.bar(np.arange(thucad.colisiones.size), thucad.colisiones)\r\n",
        "plt.xlabel('Cubeta')\r\n",
        "plt.ylabel(u'Número de colisiones')\r\n",
        "plt.show()"
      ],
      "execution_count": 80,
      "outputs": [
        {
          "output_type": "display_data",
          "data": {
            "image/png": "[encoded data removed]",
            "text/plain": [
              "<Figure size 432x288 with 1 Axes>"
            ]
          },
          "metadata": {
            "tags": [],
            "needs_background": "light"
          }
        }
      ]
    },
    {
      "cell_type": "markdown",
      "metadata": {
        "id": "KGAVP2FEf4aI"
      },
      "source": [
        "## Ejercicio\n",
        "Realiza lo siguiente:\n",
        "1. Implementa una tabla que realice sondeo cuadrático. Elige un número primo grande para $m$ y $c_1 = c_2 = 0.5$ y prueba la tabla con el conjunto de 200 números. \n",
        "\n",
        "$$\n",
        "h(x, i) = (h'(x) + c_1i + c_2i^2)\\mod{m}\n",
        "$$\n",
        "\n",
        "2. Desarrolla un programa que cuente el número de ocurrencias de todas las subcadenas de longitud entre 5 a 10 (sin considerar espacios en blanco ni signos de admiración/interrogación ni caracteres especiales) usando funciones y tablas _hash_. Prueba este programa en la base de datos de _20 newsgroups_."
      ]
    }
  ]
}